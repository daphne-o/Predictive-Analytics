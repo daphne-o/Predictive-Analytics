{
  "nbformat": 4,
  "nbformat_minor": 0,
  "metadata": {
    "colab": {
      "provenance": []
    },
    "kernelspec": {
      "name": "python3",
      "display_name": "Python 3"
    },
    "language_info": {
      "name": "python"
    }
  },
  "cells": [
    {
      "cell_type": "markdown",
      "source": [
        "# Section 1\n"
      ],
      "metadata": {
        "id": "6mshSB2yD3ir"
      }
    },
    {
      "cell_type": "markdown",
      "source": [
        "## Question 1: Simulating a dice [5 points]\n",
        "\n",
        "\n"
      ],
      "metadata": {
        "id": "Nwxhr0onEHiu"
      }
    },
    {
      "cell_type": "markdown",
      "source": [
        "In this question, you will be using the Python library [Numpy](https://numpy.org/doc/stable/user/absolute_beginners.html) to simulate rolling dice. You will also be using the [seaborn](https://seaborn.pydata.org/) library to build some plots!"
      ],
      "metadata": {
        "id": "20_A-kD2ERl3"
      }
    },
    {
      "cell_type": "code",
      "execution_count": 72,
      "metadata": {
        "id": "4EuNvMcZD2G3"
      },
      "outputs": [],
      "source": [
        "import numpy as np\n",
        "import seaborn as sns\n",
        "import matplotlib.pyplot as plt"
      ]
    },
    {
      "cell_type": "markdown",
      "source": [
        "### 1.1 Represent a dice [1 point]\n",
        "\n",
        "You first need to define how many sides your dice will have. You can represent a dice by using a NumPy array and assign to each side a label which will be equal to the number of that side:"
      ],
      "metadata": {
        "id": "x92yiavPEu0y"
      }
    },
    {
      "cell_type": "code",
      "source": [
        "# Define the desired number of sides\n",
        "n_sides = 6\n",
        "\n",
        "# Create a numpy array with the values from 1-n_sides (both includsive)\n",
        "dice = np.arange(1, n_sides +1)\n",
        "dice"
      ],
      "metadata": {
        "id": "M288cnGmEqkh",
        "colab": {
          "base_uri": "https://localhost:8080/",
          "height": 0
        },
        "outputId": "765ed79e-b66c-453c-efdf-8361a22701eb"
      },
      "execution_count": 73,
      "outputs": [
        {
          "output_type": "execute_result",
          "data": {
            "text/plain": [
              "array([1, 2, 3, 4, 5, 6])"
            ]
          },
          "metadata": {},
          "execution_count": 73
        }
      ]
    },
    {
      "cell_type": "markdown",
      "source": [
        "### 1.2 Rolling the dice [1 point]\n",
        "Let's roll the dice. You can assume that the dice is fair, which means the probability of landing on each side is the same (it follows a uniform distribution). You can use the function [np.random.choice](https://numpy.org/doc/stable/reference/random/generated/numpy.random.choice.html), which given a NumPy array returns one of the entries in it randomnly:"
      ],
      "metadata": {
        "id": "FEAWcCfdE5vJ"
      }
    },
    {
      "cell_type": "markdown",
      "source": [
        "#### Discrete Uniform Distribution\n",
        "The discrete uniform distribution is a probability distribution where a finite number of discrete outcomes are equally likely to occur. This means that each outcome has the same probability, and the probability of any given outcome is the reciprocal of the total number of possible outcomes.\n",
        "\n",
        "The mean (or expected value) $E[X]$ of a discrete uniform distribution is the average of the smallest and largest possible outcomes:\n",
        "\n",
        "$$E(X) = \\frac{a+b}{2}$$\n",
        "\n",
        "The variance $Var(X)$ measures the spread of the distribution and is given by:\n",
        "\n",
        "$$Var(X) = \\frac{(b+a-1)^2-1}{12}$$\n",
        "\n",
        "So, for our case here with a fair die, the mean is 3.5 and the variance is 2.916."
      ],
      "metadata": {
        "id": "sT51TIyPGqzt"
      }
    },
    {
      "cell_type": "code",
      "source": [
        "# Roll the dice 20 times\n",
        "n_rolls = 20\n",
        "\n",
        "# Roll the dice n_rolls times\n",
        "rolls = np.random.choice(dice, size=n_rolls)\n",
        "\n",
        "\n",
        "rolls"
      ],
      "metadata": {
        "id": "-pK756Z5E2sa",
        "colab": {
          "base_uri": "https://localhost:8080/",
          "height": 0
        },
        "outputId": "699d3b12-0a0e-4c66-add5-3941986f0926"
      },
      "execution_count": 74,
      "outputs": [
        {
          "output_type": "execute_result",
          "data": {
            "text/plain": [
              "array([3, 5, 5, 1, 4, 6, 6, 2, 6, 4, 4, 3, 6, 1, 1, 1, 2, 6, 3, 6])"
            ]
          },
          "metadata": {},
          "execution_count": 74
        }
      ]
    },
    {
      "cell_type": "markdown",
      "source": [
        "### 1.3 Mean and Variance of the rolls [2 points]"
      ],
      "metadata": {
        "id": "Vwuu1Y1nBvlW"
      }
    },
    {
      "cell_type": "markdown",
      "source": [
        "What if you would like to know the mean and variance of this process. For this you can use NumPy's functions [np.mean](https://numpy.org/doc/stable/reference/generated/numpy.mean.html) and [np.var](https://numpy.org/doc/stable/reference/generated/numpy.var.html):"
      ],
      "metadata": {
        "id": "PwbR_LlyFwCu"
      }
    },
    {
      "cell_type": "code",
      "source": [
        "# Compute mean of rolls\n",
        "m = np.mean(rolls)\n",
        "\n",
        "\n",
        "# Compute variance of 20 rolls\n",
        "v = np.var(rolls)\n",
        "\n",
        "print(f\"mean of rolls: {m:.2f}\\nvariance of rolls: {v:.2f}\")"
      ],
      "metadata": {
        "id": "R-hHF5p0Fm9Z",
        "colab": {
          "base_uri": "https://localhost:8080/",
          "height": 0
        },
        "outputId": "5109ff04-911f-4272-d5f7-d9eda3b47f87"
      },
      "execution_count": 75,
      "outputs": [
        {
          "output_type": "stream",
          "name": "stdout",
          "text": [
            "mean of rolls: 3.75\n",
            "variance of rolls: 3.59\n"
          ]
        }
      ]
    },
    {
      "cell_type": "markdown",
      "source": [
        "You can  check the distribution of the rolls by plotting a histogram of the NumPy array that holds the result of each throw. For this we will use the plotting library Seaborn, concretely the [sns.histplot](https://seaborn.pydata.org/generated/seaborn.histplot.html) function:"
      ],
      "metadata": {
        "id": "mBYXdkULGLcu"
      }
    },
    {
      "cell_type": "code",
      "source": [
        "# Display histogram of 20 rolls\n",
        "n_rolls_hist = sns.histplot(rolls, discrete=True)\n",
        "n_rolls_hist.set(title=f\"Histogram of {n_rolls} rolls\")\n",
        "plt.show()"
      ],
      "metadata": {
        "id": "SsqbghzEGGlb",
        "colab": {
          "base_uri": "https://localhost:8080/",
          "height": 452
        },
        "outputId": "50587c75-f0ba-4ab5-b1f2-fd65e1d05885"
      },
      "execution_count": 76,
      "outputs": [
        {
          "output_type": "display_data",
          "data": {
            "text/plain": [
              "<Figure size 640x480 with 1 Axes>"
            ],
            "image/png": "[encoded data removed]"
          },
          "metadata": {}
        }
      ]
    },
    {
      "cell_type": "markdown",
      "source": [
        "### 1.4 Law of Large Numbers [1 point]"
      ],
      "metadata": {
        "id": "CSqbDhXvH01N"
      }
    },
    {
      "cell_type": "markdown",
      "source": [
        "All of this looks very different from the theoretical values we calculated before. Let's see if we use the law of large numbers, can we get closer to the theoretical mean?"
      ],
      "metadata": {
        "id": "aPmBoK-pHzKN"
      }
    },
    {
      "cell_type": "code",
      "source": [
        "n_rolls = 200000\n",
        "\n",
        "rolls = np.random.choice(dice, size=n_rolls)\n",
        "\n",
        "print(f\"mean of rolls: {np.mean(rolls):.2f}\\nvariance of rolls: {np.var(rolls):.2f}\")"
      ],
      "metadata": {
        "id": "iJFTKpr-GOx_",
        "colab": {
          "base_uri": "https://localhost:8080/",
          "height": 0
        },
        "outputId": "e45bcb3c-4455-46a8-cff5-ee9db033c174"
      },
      "execution_count": 77,
      "outputs": [
        {
          "output_type": "stream",
          "name": "stdout",
          "text": [
            "mean of rolls: 3.50\n",
            "variance of rolls: 2.92\n"
          ]
        }
      ]
    },
    {
      "cell_type": "code",
      "source": [
        "# lets plot this\n",
        "n_rolls_hist = sns.histplot(rolls, discrete=True)\n",
        "n_rolls_hist.set(title=f\"Histogram of {n_rolls} rolls\")\n",
        "plt.show()"
      ],
      "metadata": {
        "id": "i87glFdyGhPz",
        "colab": {
          "base_uri": "https://localhost:8080/",
          "height": 452
        },
        "outputId": "5b3e981f-8947-435c-a9af-e7c615482538"
      },
      "execution_count": 78,
      "outputs": [
        {
          "output_type": "display_data",
          "data": {
            "text/plain": [
              "<Figure size 640x480 with 1 Axes>"
            ],
            "image/png": "[encoded data removed]"
          },
          "metadata": {}
        }
      ]
    },
    {
      "cell_type": "markdown",
      "source": [
        "Now this looks a lot closer to the theoretical values!"
      ],
      "metadata": {
        "id": "4wEDsBGRCB-w"
      }
    },
    {
      "cell_type": "markdown",
      "source": [
        "## Question 2: Central Limit Theorem [5 points]\n",
        "\n",
        "In this question, you will see the Central Limit Theorem in action.\n",
        "\n",
        "Recall from class, the CLT states that distribution of sample mean is nearly normal, centered at the population mean, and with a standard deviation equal to the population standard deviation divided by square root of the sample size.\n",
        "\n",
        "$$\\bar{X} \\sim N(\\mu, \\frac{\\sigma}{\\sqrt{n}})$$\n",
        "\n",
        "Let us take a population that is not normally distributed. Here we will work with the [beta distribution](https://en.wikipedia.org/wiki/Beta_distribution), and show that if we take a sample from the beta distribution, and take its mean, the mean follows a normal distribution.\n",
        "\n",
        "Let us first learn the important facts about the beta distribution.\n",
        "\n",
        "PDF: The beta distribution has two parameters, $\\alpha>0$ and $\\beta>0$\n",
        "\n",
        "\n",
        "$$\\frac{x^{\\alpha-1}(1-x)^{b-1}}{B(\\alpha, \\beta)}$$\n",
        "\n",
        "\n",
        "Here:\n",
        "\n",
        "$$B(\\alpha, \\beta) = \\frac{\\Gamma(\\alpha)\\Gamma(\\beta)}{\\Gamma(\\alpha+\\beta)}$$\n",
        "\n",
        "Where $\\Gamma$ is the [Gamma function](https://en.wikipedia.org/wiki/Gamma_function)\n",
        "\n",
        "\n",
        "The mean and variance are given by:\n",
        "\n",
        "$$E(X) = \\frac{\\alpha}{\\alpha+\\beta}$$\n",
        "\n",
        "$$Var(X) = \\frac{\\alpha\\beta}{(\\alpha+\\beta)^2(\\alpha+\\beta+1)}$$"
      ],
      "metadata": {
        "id": "dA7NltKJJ-iR"
      }
    },
    {
      "cell_type": "markdown",
      "source": [
        "You will generate the data for this Beta population by using the [np.random.beta](https://numpy.org/doc/stable/reference/random/generated/numpy.random.beta.html)"
      ],
      "metadata": {
        "id": "8j4E1sc6G6b0"
      }
    },
    {
      "cell_type": "markdown",
      "source": [
        "### 2.1 Generate a population that follows the beta distribution [1 point]"
      ],
      "metadata": {
        "id": "IuyBo3pWCKpB"
      }
    },
    {
      "cell_type": "code",
      "source": [
        "alpha = 0.5\n",
        "beta = 0.5\n",
        "size_of_population = 100000\n",
        "\n",
        "# lets create a ppopulation of size size_of_population using np.random.beta\n",
        "beta_population = np.random.beta(alpha, beta, size=size_of_population)"
      ],
      "metadata": {
        "id": "kJZ6c2J4J5RH"
      },
      "execution_count": 79,
      "outputs": []
    },
    {
      "cell_type": "markdown",
      "source": [
        "### 2.2 Mean and Variance of the population [1.5 points]\n",
        "What is the mean and variance of this population? Calculate the values theoretically. [1 point]\n"
      ],
      "metadata": {
        "id": "e4clISenHjjh"
      }
    },
    {
      "cell_type": "markdown",
      "source": [
        "$\\text{Theoretical Mean:} \\quad \\mu = \\frac{\\alpha}{\\alpha + \\beta} = \\frac{0.5}{0.5 + 0.5} = 0.5$\n",
        "\n",
        "$\\text{Theoretical Variance:}$ $\\quad \\sigma^2 = \\frac{\\alpha \\cdot \\beta}{(\\alpha + \\beta)^2 \\cdot (\\alpha + \\beta + 1)} = \\frac{0.5 \\cdot 0.5}{(0.5 + 0.5)^2 \\cdot (0.5 + 0.5 + 1)} = \\frac{0.25}{1^2 \\cdot 2} = \\frac{0.25}{2} = 0.125$"
      ],
      "metadata": {
        "id": "wn0kPLMyL2r-"
      }
    },
    {
      "cell_type": "markdown",
      "source": [
        "\n",
        "Now, compute the values using code below, from the population you defined above [0.5 point]"
      ],
      "metadata": {
        "id": "qGecjG-GIOEu"
      }
    },
    {
      "cell_type": "code",
      "source": [
        "# Write code to calculate mean and variance\n",
        "mean_beta = np.mean(beta_population)\n",
        "var_beta = np.var(beta_population)\n",
        "print(f\"mean of beta: {mean_beta:.2f}\\nvariance of beta: {var_beta:.3f}\")"
      ],
      "metadata": {
        "id": "UA4oy7MHIyk6",
        "colab": {
          "base_uri": "https://localhost:8080/",
          "height": 0
        },
        "outputId": "8f6420d9-8638-4c83-d402-937649f30541"
      },
      "execution_count": 80,
      "outputs": [
        {
          "output_type": "stream",
          "name": "stdout",
          "text": [
            "mean of beta: 0.50\n",
            "variance of beta: 0.125\n"
          ]
        }
      ]
    },
    {
      "cell_type": "code",
      "source": [
        "# Lets plot this. This does not look normal (and it shouldn't)\n",
        "\n",
        "sns.histplot(beta_population, stat=\"density\")\n",
        "plt.show()"
      ],
      "metadata": {
        "id": "v0t5T03bHU0U",
        "colab": {
          "base_uri": "https://localhost:8080/",
          "height": 430
        },
        "outputId": "8e2fce53-9f48-4243-83b8-527a36a205b9"
      },
      "execution_count": 81,
      "outputs": [
        {
          "output_type": "display_data",
          "data": {
            "text/plain": [
              "<Figure size 640x480 with 1 Axes>"
            ],
            "image/png": "[encoded data removed]"
          },
          "metadata": {}
        }
      ]
    },
    {
      "cell_type": "markdown",
      "source": [
        "### 2.3 Sampling from the population [1.5 points]\n",
        "\n",
        "In the real world, you will never have access to the entire population, or know its mean and variance. To make inference in the real world, we need to draw samples from the population.\n",
        "\n",
        "The size of the sample, and way you draw the sample determines how close you get to the truth about the population. In this exercise, we will sample from our beta population.\n",
        "\n",
        "To test whether the CLT holds, we can draw many many samples from the population, find out all their means, and calculate their mean, and standard deviation. In real life, you will not be able to this, you will only be able to draw one sample. However, this exercise should show you that the CLT holds, and you can use it to make inferences about the one sample you drew"
      ],
      "metadata": {
        "id": "5o6GHy_dP__4"
      }
    },
    {
      "cell_type": "markdown",
      "source": [
        "Now lets define a function, `sample_means`. In this function,\n",
        "you take random samples out of the population (the sampling is done with replacement, which means that once you select an element you put it back in the sampling space so you could choose a particular element more than once). This ensures that the independence condition is met.\n",
        "\n",
        "Compute the mean of each sample\n",
        "\n",
        "Save the means of each sample in a numpy array"
      ],
      "metadata": {
        "id": "8zDxB06fRflJ"
      }
    },
    {
      "cell_type": "code",
      "source": [
        "def sample_means(data: np.array, sample_size: int) -> np.array:\n",
        "  \"\"\"Generates 100000 samples, takes their mean, and returns the means\n",
        "  functions\n",
        "  Args:\n",
        "    data: np.array containing the entire population\n",
        "    sample_size: int describing how large a sample to take from the population\n",
        "  Returns:\n",
        "    Means of the 100000 samples taken from the population\n",
        "  \"\"\"\n",
        "  # Save all the means in a list\n",
        "  means = []\n",
        "  # You are drawing 100000 samples here\n",
        "  for _ in range(100000):\n",
        "    # Get a sample of the data WITH replacement\n",
        "    sample = np.random.choice(data, size=sample_size, replace=True)\n",
        "    # Save the mean of the sample by appending to means\n",
        "    means.append(np.mean(sample))\n",
        "    # Return the means within a numpy array\n",
        "  return np.array(means)"
      ],
      "metadata": {
        "id": "7SH3Jrs_Re7Y"
      },
      "execution_count": 82,
      "outputs": []
    },
    {
      "cell_type": "markdown",
      "source": [
        "Now you are ready to draw multiple samples from your beta population, calculate their means, and plot them! We should expect that plot to look like a normal distribtuion!"
      ],
      "metadata": {
        "id": "-dRf-x5LSKnF"
      }
    },
    {
      "cell_type": "markdown",
      "source": [
        "### 2.4 Calculate the mean and variance for the sample means [0.5 points]"
      ],
      "metadata": {
        "id": "pt5Iu7eODKdp"
      }
    },
    {
      "cell_type": "code",
      "source": [
        "# Compute the sample means\n",
        "gaussian_sample_means = sample_means(beta_population, sample_size=50)\n",
        "\n",
        "# Plot a histogram of the sample means\n",
        "sns.histplot(gaussian_sample_means, stat=\"density\")\n",
        "plt.show()"
      ],
      "metadata": {
        "id": "Xsxcp20ARQIk",
        "colab": {
          "base_uri": "https://localhost:8080/",
          "height": 430
        },
        "outputId": "dda75717-cd3c-41b8-cc59-012cab1d26cb"
      },
      "execution_count": 83,
      "outputs": [
        {
          "output_type": "display_data",
          "data": {
            "text/plain": [
              "<Figure size 640x480 with 1 Axes>"
            ],
            "image/png": "[encoded data removed]"
          },
          "metadata": {}
        }
      ]
    },
    {
      "cell_type": "markdown",
      "source": [
        "Whoa! That looks like a normal distribution! Now, we need to verify what the mean and standard deviation would be. Recall, from CLT:\n",
        "\n",
        "$$\\bar{X} \\sim N(\\mu, \\frac{\\sigma}{\\sqrt{n}})$$\n",
        "\n",
        "In the previous exercise, you calculated the mean and variance of the beta population. Now lets calculate the mean and variance of the means above, and compare it to the theoretical values"
      ],
      "metadata": {
        "id": "2J6zxv6bSUKv"
      }
    },
    {
      "cell_type": "code",
      "source": [
        "mean_of_means = np.mean(gaussian_sample_means)\n",
        "var_of_means =  np.var(gaussian_sample_means)\n",
        "print(f\"Mean of means: {mean_of_means:.2f}\\nvariance of means: {var_of_means:.5f}\")"
      ],
      "metadata": {
        "id": "AxUy_DWvSvYE",
        "colab": {
          "base_uri": "https://localhost:8080/",
          "height": 0
        },
        "outputId": "e2ae5a32-2686-4417-c17b-163941386e8d"
      },
      "execution_count": 84,
      "outputs": [
        {
          "output_type": "stream",
          "name": "stdout",
          "text": [
            "Mean of means: 0.50\n",
            "variance of means: 0.00250\n"
          ]
        }
      ]
    },
    {
      "cell_type": "markdown",
      "source": [
        "### 2.5 Variance of the population [0.5 points]\n",
        "\n",
        "Can you derive the variance of the population from the variance of the means you calculated above? Show your work.\n"
      ],
      "metadata": {
        "id": "J4R2Rc40DV6Z"
      }
    },
    {
      "cell_type": "markdown",
      "source": [
        "$\\text{Variance of the sample means} = \\frac{\\text{Variance of the population}}{n}$\n",
        "$\\quad \\Rightarrow \\quad \\text{Variance of the population} = \\text{Variance of the sample means} \\times n$\n",
        "\n",
        "$\\text{Variance of the population} = 0.00250 \\times 50 = 0.125$"
      ],
      "metadata": {
        "id": "xoBCPzwjODrq"
      }
    },
    {
      "cell_type": "markdown",
      "source": [
        "## Question 3 Dot Product of vectors [5 points]"
      ],
      "metadata": {
        "id": "Oj3F96IAj7Jt"
      }
    },
    {
      "cell_type": "markdown",
      "source": [
        "### 3.1 - Definition of the Dot Product [2 points]\n",
        "\n",
        "The **dot product** (or **scalar product**) is an algebraic operation that takes two vectors $x=\\begin{bmatrix}\n",
        "          x_1 & x_2 & \\ldots & x_n\n",
        "\\end{bmatrix}^T\\in\\mathbb{R}^n$ and  \n",
        "$y=\\begin{bmatrix}\n",
        "          y_1 & y_2 & \\ldots & y_n\n",
        "\\end{bmatrix}^T\\in\\mathbb{R}^n$ and returns a single scalar. The dot product can be represented with a dot operator $x\\cdot y$ and defined as:\n",
        "\n",
        "$$x\\cdot y = \\sum_{i=1}^{n} x_iy_i = x_1y_1+x_2y_2+\\ldots+x_ny_n$$"
      ],
      "metadata": {
        "id": "YeZ4xQxhkn2M"
      }
    },
    {
      "cell_type": "code",
      "source": [
        "def dot(x:np.array, y:np.array) -> np.array:\n",
        "  \"\"\"Returns dot product of two vectors without using the inbuilt numpy\n",
        "  functions\n",
        "  Args:\n",
        "    x: np.array\n",
        "    y: np.array\n",
        "  Returns:\n",
        "    Dot product of x and y\n",
        "  \"\"\"\n",
        "  product = 0\n",
        "  for xi, yi in zip(x, y):\n",
        "    product += xi * yi\n",
        "  return product"
      ],
      "metadata": {
        "id": "a3yU9sECVDp7"
      },
      "execution_count": 85,
      "outputs": []
    },
    {
      "cell_type": "markdown",
      "source": [
        "####Speed of Calculations in Vectorized Form\n",
        "\n",
        "Dot product operations in Machine Learning applications are applied to the large vectors with hundreds or thousands of coordinates (called **high dimensional vectors**).\n",
        "\n",
        "It is important to understand the difference in the speed of calculations using vectorized and the loop forms of the vectors and functions. In the loop form operations are performed one by one, while in the vectorized form they can be performed in parallel. You can use the function np.dot, or the @ symbol to perform vectorized dot products.\n",
        "\n",
        "\n",
        "Let's perform a simple experiment to compare their speed. Define new vectors $a$ and $b$ of the same size $1,000,000$:"
      ],
      "metadata": {
        "id": "wGV2ZfqglRku"
      }
    },
    {
      "cell_type": "code",
      "source": [
        "a = np.random.rand(1000000)\n",
        "b = np.random.rand(1000000)"
      ],
      "metadata": {
        "id": "INzz6zU_k7Py"
      },
      "execution_count": 86,
      "outputs": []
    },
    {
      "cell_type": "code",
      "source": [
        "import time\n",
        "\n",
        "tic = time.time()\n",
        "c = dot(a,b)\n",
        "toc = time.time()\n",
        "print(\"Dot product: \", c)\n",
        "print (\"Time for the loop version:\" + str(1000*(toc-tic)) + \" ms\")"
      ],
      "metadata": {
        "id": "zTXhGTLilrqb",
        "colab": {
          "base_uri": "https://localhost:8080/",
          "height": 0
        },
        "outputId": "ccc79836-01ca-4b80-9e8c-28f886014fe0"
      },
      "execution_count": 87,
      "outputs": [
        {
          "output_type": "stream",
          "name": "stdout",
          "text": [
            "Dot product:  249927.3152145403\n",
            "Time for the loop version:288.3899211883545 ms\n"
          ]
        }
      ]
    },
    {
      "cell_type": "code",
      "source": [
        "tic = time.time()\n",
        "c = np.dot(a,b)\n",
        "toc = time.time()\n",
        "print(\"Dot product: \", c)\n",
        "print (\"Time for the vectorized version, np.dot() function: \" + str(1000*(toc-tic)) + \" ms\")"
      ],
      "metadata": {
        "id": "zUZtwUKFlwpk",
        "colab": {
          "base_uri": "https://localhost:8080/",
          "height": 0
        },
        "outputId": "3a8b9383-623e-46f1-afca-c7c89fe453ea"
      },
      "execution_count": 88,
      "outputs": [
        {
          "output_type": "stream",
          "name": "stdout",
          "text": [
            "Dot product:  249927.31521455123\n",
            "Time for the vectorized version, np.dot() function: 2.255678176879883 ms\n"
          ]
        }
      ]
    },
    {
      "cell_type": "code",
      "source": [
        "tic = time.time()\n",
        "c = a @ b\n",
        "toc = time.time()\n",
        "print(\"Dot product: \", c)\n",
        "print (\"Time for the vectorized version, @ function: \" + str(1000*(toc-tic)) + \" ms\")"
      ],
      "metadata": {
        "id": "DiU2S55Yl0Bh",
        "colab": {
          "base_uri": "https://localhost:8080/",
          "height": 0
        },
        "outputId": "a22b14f3-289d-40f3-cd9b-35f450b275fc"
      },
      "execution_count": 89,
      "outputs": [
        {
          "output_type": "stream",
          "name": "stdout",
          "text": [
            "Dot product:  249927.31521455123\n",
            "Time for the vectorized version, @ function: 1.5647411346435547 ms\n"
          ]
        }
      ]
    },
    {
      "cell_type": "markdown",
      "source": [
        "You can see that vectorization is extremely beneficial in terms of the speed of calculations!"
      ],
      "metadata": {
        "id": "p4bKMTpIn2sl"
      }
    },
    {
      "cell_type": "markdown",
      "source": [
        "### 3.2 Angle between vectors [3 points]\n",
        "\n",
        "In [Euclidean space](https://en.wikipedia.org/wiki/Euclidean_space), a Euclidean vector has both magnitude and direction. The dot product of two vectors $x$ and $y$ is defined by:\n",
        "\n",
        "$$x\\cdot y = \\lvert x\\rvert \\lvert y\\rvert \\cos(\\theta)$$\n",
        "\n",
        "where $\\theta$ is the angle between the two vectors:\n",
        "\n",
        "\n",
        "This provides an easy way to test the orthogonality between vectors. If $x$ and $y$ are orthogonal (the angle between vectors is $90^{\\circ}$), then since $\\cos(90^{\\circ})=0$, it implies that **the dot product of any two orthogonal vectors must be $0$**. Let's test it, taking two vectors $i$ and $j$ we know are orthogonal:"
      ],
      "metadata": {
        "id": "HEpSuIEFO1b-"
      }
    },
    {
      "cell_type": "code",
      "source": [
        "i = np.array([1, 0, 0])\n",
        "j = np.array([0, 1, 0])\n",
        "print(\"The dot product of i and j is\", dot(i, j))"
      ],
      "metadata": {
        "id": "6ylFT08sPYLv",
        "colab": {
          "base_uri": "https://localhost:8080/",
          "height": 0
        },
        "outputId": "645d091c-5fee-4b54-f835-859ba356d3c3"
      },
      "execution_count": 90,
      "outputs": [
        {
          "output_type": "stream",
          "name": "stdout",
          "text": [
            "The dot product of i and j is 0\n"
          ]
        }
      ]
    },
    {
      "cell_type": "markdown",
      "source": [
        "Geometric definition of a dot product is used in one of the applications - to evaluate **vector similarity**. In Natural Language Processing (NLP) words or phrases from vocabulary are mapped to a corresponding vector of real numbers. Similarity between two vectors can be defined as a cosine of the angle between them. When they point in the same direction, their similarity is 1 and it decreases with the increase of the angle.\n",
        "\n",
        "Then equation $(2)$ can be rearranged to evaluate cosine of the angle between vectors:\n",
        "\n",
        "$\\cos(\\theta)=\\frac{x \\cdot y}{\\lvert x\\rvert \\lvert y\\rvert}$\n",
        "\n",
        "Zero value corresponds to the zero similarity between vectors (and words corresponding to those vectors). Largest value is when vectors point in the same direction, lowest value is when vectors point in the opposite directions.\n",
        "\n",
        "We will do one such application in the next exercise. For now, let us code up a function that takes in two vectors, and returns the $cos(\\theta)$ between them."
      ],
      "metadata": {
        "id": "sdI75mpLPtgu"
      }
    },
    {
      "cell_type": "code",
      "source": [
        "def cosine_similarity_manual(x: np.array, y:np.array) -> float:\n",
        "  \"\"\"Returns the cosine of the angle between the vectors x and y\n",
        "  Do not use the inbuilt cosine_similarity function\n",
        "  Args:\n",
        "    x: np.array of float values\n",
        "    y: np.array of float values\n",
        "  Returns:\n",
        "      A float between -1 and 1 representing the cosine of angle between x and y\n",
        "  \"\"\"\n",
        "  dot_product = dot(x, y)\n",
        "  norm_x = np.linalg.norm(x)\n",
        "  norm_y = np.linalg.norm(y)\n",
        "  cosine_similarity = dot_product / (norm_x * norm_y)\n",
        "  return cosine_similarity"
      ],
      "metadata": {
        "id": "X-dD6DZHP7oi"
      },
      "execution_count": 91,
      "outputs": []
    },
    {
      "cell_type": "code",
      "source": [
        "# lets test it out\n",
        "i = np.array([1, 2, 0])\n",
        "j = np.array([1, -1, -1])\n",
        "\n",
        "\n",
        "cosine_similarity_manual(i, j)"
      ],
      "metadata": {
        "id": "kfUHK3_aQhTU",
        "colab": {
          "base_uri": "https://localhost:8080/",
          "height": 0
        },
        "outputId": "d833f23a-2060-42e9-fa89-37462fdf4d2a"
      },
      "execution_count": 92,
      "outputs": [
        {
          "output_type": "execute_result",
          "data": {
            "text/plain": [
              "-0.2581988897471611"
            ]
          },
          "metadata": {},
          "execution_count": 92
        }
      ]
    },
    {
      "cell_type": "markdown",
      "source": [
        "## Question 4: Natural Language Processing [10 points]"
      ],
      "metadata": {
        "id": "J1yTxABBp5KO"
      }
    },
    {
      "cell_type": "markdown",
      "source": [
        "In NLP, cosine similarity is often used to compare text documents by representing them as high-dimensional vectors, where each dimension corresponds to a word's frequency in the document. This is called TF-IDF (Term Frequency-Inverse Document Frequency).\n",
        "\n",
        "In this exercise, we will go through several steps to implement a crude version of measuring cosine similarity between two pieces of text, that will tell us how similar the two pieces of text are.\n",
        "\n",
        "However, to be able to use cosine similarity in a meaningful manner, we first need to convert the two pieces of text into vector representation. This involves several steps:\n",
        "\n"
      ],
      "metadata": {
        "id": "ix2Rv6VtyaQK"
      }
    },
    {
      "cell_type": "markdown",
      "source": [
        "Steps:\n",
        "\n",
        "1. Tokenization: Break the sentences into individual words (tokens).\n",
        "2. Term Frequency (TF): Calculate the term frequency for each word in the document.\n",
        "3. Inverse Document Frequency (IDF): Calculate the inverse document frequency to downweight common words.\n",
        "4. TF-IDF Calculation: Multiply the term frequency by the inverse document frequency to get the TF-IDF values.\n",
        "5. Cosine Similarity: Manually calculate the cosine similarity between the resulting vectors."
      ],
      "metadata": {
        "id": "fue4rWw2yo_5"
      }
    },
    {
      "cell_type": "markdown",
      "source": [
        "TF-IDF (Term Frequency-Inverse Document Frequency) is a numerical statistic used in text mining and information retrieval to evaluate the importance of a word in a document relative to a collection of documents (known as a corpus). It combines two statistics, Term Frequency (TF) and Inverse Document Frequency (IDF), to weigh words in such a way that frequent words in a document are emphasized while common words across many documents (like \"the\" or \"is\") are downweighted."
      ],
      "metadata": {
        "id": "ZWS8sDYVyjY7"
      }
    },
    {
      "cell_type": "markdown",
      "source": [
        "**Term Frequency (TF):**\n",
        "\n",
        "The term frequency of a word in a document measures how frequently the word appears in that document. The more often a word appears in a document, the higher its TF value. It is calculated as:\n",
        "\n",
        "$$TF(t, d) = \\frac{\\text{Number of times term t appears in document d\n",
        "}}{\\text{Total number of terms in document d\n",
        "}}$$\n",
        "\n",
        "**Inverse Document Frequency (IDF):**\n",
        "\n",
        "The inverse document frequency measures how important a term is across the entire corpus. It downweights terms that appear in many documents because such terms are less discriminative. IDF is calculated as:\n",
        "\n",
        "$$IDF(t)=log\\left(\\frac{N}{1+DF(t)}\\right) + 1$$.\n",
        "\n",
        "where\n",
        "\n",
        "$N$ = total number of documents in the corpus.\n",
        "\n",
        "$DF(t)$ = number of documents that contain term $t$\n",
        "\n",
        "**TF-IDF Calculation:**\n",
        "\n",
        "$$TF-IDF(t,d)=TF(t,d)×IDF(t) $$\n",
        "\n",
        "**Cosine Similarity**\n",
        "\n",
        "The closer the cosine value is to 1, the smaller the angle, and the more similar the vectors (and therefore, the documents) are."
      ],
      "metadata": {
        "id": "L2mJ2XcGzPUV"
      }
    },
    {
      "cell_type": "code",
      "source": [
        "import numpy as np\n",
        "import math"
      ],
      "metadata": {
        "id": "O-YRcxnzyi2f"
      },
      "execution_count": 93,
      "outputs": []
    },
    {
      "cell_type": "code",
      "source": [
        "# Step 1: Define the text documents\n",
        "# feel free to play around with different sentences here\n",
        "doc1 = \"Predictive Analytics is fascinating. I love predictive analytics.\"\n",
        "doc2 = \"Artificial intelligence is fascinating. I love AI\""
      ],
      "metadata": {
        "id": "4gGj3H8yl3X0"
      },
      "execution_count": 94,
      "outputs": []
    },
    {
      "cell_type": "markdown",
      "source": [
        "### 4.1 Tokenize the input [2 points]\n",
        "\n",
        "This is an important part of the process. We are doing minimum processing here. In the real world, you would also want to remove things like stop words from the documents"
      ],
      "metadata": {
        "id": "AMIshg6oWXZY"
      }
    },
    {
      "cell_type": "code",
      "source": [
        "# Step 2: Tokenize the documents [2 points]\n",
        "def tokenize(doc: str) -> list:\n",
        "  \"\"\"Cleans the document to prepare it for analysis. This involves:\n",
        "  1. converting every word to lowercase\n",
        "  2. removing punctuation like ,.;:?\n",
        "  Args:\n",
        "    doc: A document in string format\n",
        "  Returns:\n",
        "      A list containing each word in the document in lower case\n",
        "  \"\"\"\n",
        "  punctuation = \",.;:?\"\n",
        "\n",
        "  doc = doc.lower()\n",
        "  for char in punctuation:\n",
        "    doc = doc.replace(char, \"\")\n",
        "  return doc.split()"
      ],
      "metadata": {
        "id": "RGYexYlJ0597"
      },
      "execution_count": 95,
      "outputs": []
    },
    {
      "cell_type": "code",
      "source": [
        "tokens_doc1 = tokenize(doc1)\n",
        "tokens_doc2 = tokenize(doc2)"
      ],
      "metadata": {
        "id": "lj648dod1R9H"
      },
      "execution_count": 96,
      "outputs": []
    },
    {
      "cell_type": "code",
      "source": [
        "tokens_doc1"
      ],
      "metadata": {
        "id": "D0wPvdKx1UOL",
        "colab": {
          "base_uri": "https://localhost:8080/",
          "height": 0
        },
        "outputId": "99fa508f-6d81-40ff-f153-0a8208a48808"
      },
      "execution_count": 97,
      "outputs": [
        {
          "output_type": "execute_result",
          "data": {
            "text/plain": [
              "['predictive',\n",
              " 'analytics',\n",
              " 'is',\n",
              " 'fascinating',\n",
              " 'i',\n",
              " 'love',\n",
              " 'predictive',\n",
              " 'analytics']"
            ]
          },
          "metadata": {},
          "execution_count": 97
        }
      ]
    },
    {
      "cell_type": "code",
      "source": [
        "tokens_doc2"
      ],
      "metadata": {
        "id": "H4X1UkYy1VJC",
        "colab": {
          "base_uri": "https://localhost:8080/",
          "height": 0
        },
        "outputId": "2e060683-0243-4da2-a4c3-092c1c859a8e"
      },
      "execution_count": 98,
      "outputs": [
        {
          "output_type": "execute_result",
          "data": {
            "text/plain": [
              "['artificial', 'intelligence', 'is', 'fascinating', 'i', 'love', 'ai']"
            ]
          },
          "metadata": {},
          "execution_count": 98
        }
      ]
    },
    {
      "cell_type": "markdown",
      "source": [
        "### 4.2 Calculate the frequency of each word [2 points]"
      ],
      "metadata": {
        "id": "j83AGUH0WpZj"
      }
    },
    {
      "cell_type": "code",
      "source": [
        "# Step 2: Calculate the frequency of each word\n",
        "def word_frequency(tokens: list) -> dict:\n",
        "  \"\"\"Returns the frequency of each word in a list of tokens.\n",
        "  Args:\n",
        "    tokens: A list of words\n",
        "  Returns:\n",
        "      A dictionary containing each word in the list of tokens and its frequency\n",
        "  \"\"\"\n",
        "\n",
        "  count_of_word = {}\n",
        "  # use a hashmap/dictionary to calculate the frequency of each token\n",
        "  for word in tokens:\n",
        "    if word in count_of_word:\n",
        "      count_of_word[word] += 1\n",
        "    else:\n",
        "      count_of_word[word] = 1\n",
        "  return count_of_word"
      ],
      "metadata": {
        "id": "BpxY_AZi5DIc"
      },
      "execution_count": 99,
      "outputs": []
    },
    {
      "cell_type": "code",
      "source": [
        "word_frequency1 = word_frequency(tokens_doc1)\n",
        "word_frequency2 = word_frequency(tokens_doc2)"
      ],
      "metadata": {
        "id": "DMKn7uLW6KjR"
      },
      "execution_count": 100,
      "outputs": []
    },
    {
      "cell_type": "code",
      "source": [
        "word_frequency1"
      ],
      "metadata": {
        "id": "t4QEs_ci5_hv",
        "colab": {
          "base_uri": "https://localhost:8080/",
          "height": 0
        },
        "outputId": "6b83ea9d-af8c-47c9-e221-7595dfecedad"
      },
      "execution_count": 101,
      "outputs": [
        {
          "output_type": "execute_result",
          "data": {
            "text/plain": [
              "{'predictive': 2, 'analytics': 2, 'is': 1, 'fascinating': 1, 'i': 1, 'love': 1}"
            ]
          },
          "metadata": {},
          "execution_count": 101
        }
      ]
    },
    {
      "cell_type": "code",
      "source": [
        "word_frequency2"
      ],
      "metadata": {
        "id": "L00vq4K46T1j",
        "colab": {
          "base_uri": "https://localhost:8080/",
          "height": 0
        },
        "outputId": "eb6c1b5b-2236-49c3-8ffe-4ff8a5688289"
      },
      "execution_count": 102,
      "outputs": [
        {
          "output_type": "execute_result",
          "data": {
            "text/plain": [
              "{'artificial': 1,\n",
              " 'intelligence': 1,\n",
              " 'is': 1,\n",
              " 'fascinating': 1,\n",
              " 'i': 1,\n",
              " 'love': 1,\n",
              " 'ai': 1}"
            ]
          },
          "metadata": {},
          "execution_count": 102
        }
      ]
    },
    {
      "cell_type": "markdown",
      "source": [
        "### 4.3 Define your entire vocabulary"
      ],
      "metadata": {
        "id": "LNNcQeEWWzQh"
      }
    },
    {
      "cell_type": "code",
      "source": [
        "# Step 3: Create a combined set of unique words (vocabulary)\n",
        "# This is your entire dictionary.\n",
        "vocabulary = set(tokens_doc1).union(set(tokens_doc2))\n",
        "vocabulary = list(vocabulary)  # Convert to a list for indexing"
      ],
      "metadata": {
        "id": "MHohBym7Wwf4"
      },
      "execution_count": 103,
      "outputs": []
    },
    {
      "cell_type": "markdown",
      "source": [
        "### 4.4 Calculate the TF part of TF-IDF [2 points]"
      ],
      "metadata": {
        "id": "mq_s46cAW31j"
      }
    },
    {
      "cell_type": "code",
      "source": [
        "# Step 4: Calculate Term Frequency (TF)\n",
        "def term_frequency(tokens: list, count_of_word: dict) -> dict:\n",
        "  \"\"\"Returns the Term Frequency for each word in tokens\n",
        "  Args:\n",
        "    tokens: A list of words\n",
        "  Returns:\n",
        "      A dict containing the Term Frequency for each word in tokens\n",
        "  \"\"\"\n",
        "  tf = {}\n",
        "  total_words = len(tokens)\n",
        "\n",
        "  for word in count_of_word:\n",
        "    tf[word] = count_of_word[word] / total_words\n",
        "\n",
        "  return tf"
      ],
      "metadata": {
        "id": "loUc0pPn1ptH"
      },
      "execution_count": 104,
      "outputs": []
    },
    {
      "cell_type": "code",
      "source": [
        "tf_doc1 = term_frequency(tokens_doc1, word_frequency1)\n",
        "tf_doc2 = term_frequency(tokens_doc2, word_frequency2)"
      ],
      "metadata": {
        "id": "m4BL0kLp4KBE"
      },
      "execution_count": 105,
      "outputs": []
    },
    {
      "cell_type": "code",
      "source": [
        "tf_doc1"
      ],
      "metadata": {
        "id": "Wt8wJ5c_4XR-",
        "colab": {
          "base_uri": "https://localhost:8080/",
          "height": 0
        },
        "outputId": "b27c665c-f2d0-48cd-e2a5-59398c3e4ae7"
      },
      "execution_count": 106,
      "outputs": [
        {
          "output_type": "execute_result",
          "data": {
            "text/plain": [
              "{'predictive': 0.25,\n",
              " 'analytics': 0.25,\n",
              " 'is': 0.125,\n",
              " 'fascinating': 0.125,\n",
              " 'i': 0.125,\n",
              " 'love': 0.125}"
            ]
          },
          "metadata": {},
          "execution_count": 106
        }
      ]
    },
    {
      "cell_type": "code",
      "source": [
        "tf_doc2"
      ],
      "metadata": {
        "id": "kUNgEqjI4e60",
        "colab": {
          "base_uri": "https://localhost:8080/",
          "height": 0
        },
        "outputId": "b10107ac-76bd-4628-9ad2-e20831bca57e"
      },
      "execution_count": 107,
      "outputs": [
        {
          "output_type": "execute_result",
          "data": {
            "text/plain": [
              "{'artificial': 0.14285714285714285,\n",
              " 'intelligence': 0.14285714285714285,\n",
              " 'is': 0.14285714285714285,\n",
              " 'fascinating': 0.14285714285714285,\n",
              " 'i': 0.14285714285714285,\n",
              " 'love': 0.14285714285714285,\n",
              " 'ai': 0.14285714285714285}"
            ]
          },
          "metadata": {},
          "execution_count": 107
        }
      ]
    },
    {
      "cell_type": "markdown",
      "source": [
        "### 4.5 Calculate the IDF part of TF-IDF [2 points]"
      ],
      "metadata": {
        "id": "KrPtooMDW-bB"
      }
    },
    {
      "cell_type": "code",
      "source": [
        "# Step 5: Calculate Inverse Document Frequency (IDF)\n",
        "def inverse_document_frequency(documents: list, vocabulary: list) -> dict:\n",
        "  \"\"\"Returns the IDF Frequency for each word in vocabulary\n",
        "  Args:\n",
        "    vocabulary: All words in the vocab\n",
        "  Returns:\n",
        "      A dict containing the IDF for each word in vocabulary\n",
        "  \"\"\"\n",
        "  idf = {}\n",
        "  N = len(documents)\n",
        "\n",
        "  for word in vocabulary:\n",
        "    df = sum(1 for doc in documents if word in doc)\n",
        "\n",
        "    idf[word] = math.log((N / (1 + df))) + 1\n",
        "  return idf"
      ],
      "metadata": {
        "id": "sRrPneWv4fnn"
      },
      "execution_count": 108,
      "outputs": []
    },
    {
      "cell_type": "code",
      "source": [
        "documents = [tokens_doc1, tokens_doc2]\n",
        "idf = inverse_document_frequency(documents, vocabulary)"
      ],
      "metadata": {
        "id": "vh69ZA_Z-4Bs"
      },
      "execution_count": 109,
      "outputs": []
    },
    {
      "cell_type": "code",
      "source": [
        "idf"
      ],
      "metadata": {
        "id": "uvJ_DfJj-_Lc",
        "colab": {
          "base_uri": "https://localhost:8080/",
          "height": 0
        },
        "outputId": "2ca96041-8f8e-4dbc-dbb1-2ce0f9c50161"
      },
      "execution_count": 110,
      "outputs": [
        {
          "output_type": "execute_result",
          "data": {
            "text/plain": [
              "{'i': 0.5945348918918356,\n",
              " 'artificial': 1.0,\n",
              " 'analytics': 1.0,\n",
              " 'intelligence': 1.0,\n",
              " 'is': 0.5945348918918356,\n",
              " 'fascinating': 0.5945348918918356,\n",
              " 'predictive': 1.0,\n",
              " 'ai': 1.0,\n",
              " 'love': 0.5945348918918356}"
            ]
          },
          "metadata": {},
          "execution_count": 110
        }
      ]
    },
    {
      "cell_type": "markdown",
      "source": [
        "### 4.6 Calculate TF-IDF for each word in each document [2 points]"
      ],
      "metadata": {
        "id": "LPyCp2GjXEGq"
      }
    },
    {
      "cell_type": "code",
      "source": [
        "# Step 6: Calculate TF-IDF for each document\n",
        "def tfidf(tf, idf):\n",
        "  \"\"\"Returns the TF-IDF Frequency for each word in IDF\n",
        "  Args:\n",
        "    tf: A dictionary containing the TF for words in a document\n",
        "    idf: A dictionary containing the IDF for each word in voabulary\n",
        "  Returns:\n",
        "      A dict containing the TF-IDF for each word in vocabulary. Note that\n",
        "      if a word appears in IDF, but not in TF, its TF-IDF value should be 0\n",
        "  \"\"\"\n",
        "  tfidf = {}\n",
        "  vocabulary = set(tokens_doc1).union(set(tokens_doc2))\n",
        "\n",
        "  for word in vocabulary:\n",
        "    tf_value = tf.get(word, 0)\n",
        "    idf_value = idf.get(word, 0)\n",
        "    tfidf[word] = tf_value * idf_value\n",
        "\n",
        "  return tfidf"
      ],
      "metadata": {
        "id": "R7WOih9v-_y1"
      },
      "execution_count": 116,
      "outputs": []
    },
    {
      "cell_type": "code",
      "source": [
        "tfidf_doc1 = tfidf(tf_doc1, idf)\n",
        "tfidf_doc2 = tfidf(tf_doc2, idf)"
      ],
      "metadata": {
        "id": "J3IApZ_KBEzf"
      },
      "execution_count": 117,
      "outputs": []
    },
    {
      "cell_type": "code",
      "source": [
        "tfidf_doc1"
      ],
      "metadata": {
        "id": "AH77d-jUBGNM",
        "colab": {
          "base_uri": "https://localhost:8080/",
          "height": 0
        },
        "outputId": "5a531bfe-a980-4a11-8032-3434aa234c3b"
      },
      "execution_count": 118,
      "outputs": [
        {
          "output_type": "execute_result",
          "data": {
            "text/plain": [
              "{'i': 0.07431686148647945,\n",
              " 'artificial': 0.0,\n",
              " 'analytics': 0.25,\n",
              " 'intelligence': 0.0,\n",
              " 'is': 0.07431686148647945,\n",
              " 'fascinating': 0.07431686148647945,\n",
              " 'predictive': 0.25,\n",
              " 'ai': 0.0,\n",
              " 'love': 0.07431686148647945}"
            ]
          },
          "metadata": {},
          "execution_count": 118
        }
      ]
    },
    {
      "cell_type": "code",
      "source": [
        "tfidf_doc2"
      ],
      "metadata": {
        "id": "lBhj8UW9BG0W",
        "colab": {
          "base_uri": "https://localhost:8080/",
          "height": 0
        },
        "outputId": "9123b676-b15d-44ae-d4f6-1cb5871c3544"
      },
      "execution_count": 119,
      "outputs": [
        {
          "output_type": "execute_result",
          "data": {
            "text/plain": [
              "{'i': 0.08493355598454794,\n",
              " 'artificial': 0.14285714285714285,\n",
              " 'analytics': 0.0,\n",
              " 'intelligence': 0.14285714285714285,\n",
              " 'is': 0.08493355598454794,\n",
              " 'fascinating': 0.08493355598454794,\n",
              " 'predictive': 0.0,\n",
              " 'ai': 0.14285714285714285,\n",
              " 'love': 0.08493355598454794}"
            ]
          },
          "metadata": {},
          "execution_count": 119
        }
      ]
    },
    {
      "cell_type": "markdown",
      "source": [
        "### 4.7 Calculate cosine similarity between the two document vectors"
      ],
      "metadata": {
        "id": "-jg9oXhtXJJh"
      }
    },
    {
      "cell_type": "code",
      "source": [
        "# Lets first create two vectors from the dictionaries tfidf_doc1 and tfidf_doc2\n",
        "wordlist1 = []\n",
        "wordlist2 = []\n",
        "for word in tfidf_doc1:\n",
        "  wordlist1.append(tfidf_doc1[word])\n",
        "  wordlist2.append(tfidf_doc2[word])"
      ],
      "metadata": {
        "id": "FlhUwqDgBPhF"
      },
      "execution_count": 120,
      "outputs": []
    },
    {
      "cell_type": "code",
      "source": [
        "# convert to np.array and find cosine_similarity\n",
        "cosine_similarity_manual(np.array(wordlist1), np.array(wordlist2))"
      ],
      "metadata": {
        "id": "Zt-eVDLnXjjT",
        "colab": {
          "base_uri": "https://localhost:8080/",
          "height": 0
        },
        "outputId": "fc138a1c-fa9e-4fbb-af10-267b32905ff9"
      },
      "execution_count": 121,
      "outputs": [
        {
          "output_type": "execute_result",
          "data": {
            "text/plain": [
              "0.21934088631291015"
            ]
          },
          "metadata": {},
          "execution_count": 121
        }
      ]
    },
    {
      "cell_type": "markdown",
      "source": [
        "# Section 2"
      ],
      "metadata": {
        "id": "PdwRUrXZpEHc"
      }
    },
    {
      "cell_type": "markdown",
      "source": [
        "## Question 5 [10 points]"
      ],
      "metadata": {
        "id": "LWgNQ43upmNz"
      }
    },
    {
      "cell_type": "markdown",
      "source": [
        "We discussed the MLE method in class to find the parameters of a distribution from a set of data. Assume that you had an iid sample from a distribution that has the following PMF, with parameter p:\n",
        "\n",
        "\n",
        "$$P(X=x) = (1-\\theta)^{x-1}\\theta$$\n",
        "\n",
        "$x = 1,2,3...$\n",
        "\n",
        "$0<\\theta< 1 $"
      ],
      "metadata": {
        "id": "P0HYTleFpH8K"
      }
    },
    {
      "cell_type": "markdown",
      "source": [
        "### 5a. Write down the likelihood function (2 points)"
      ],
      "metadata": {
        "id": "JRXlMNPZpv6V"
      }
    },
    {
      "cell_type": "markdown",
      "source": [
        "$L(\\theta) = \\theta^n \\cdot (1 - \\theta)^{\\sum_{i=1}^{n} x_i - n}$"
      ],
      "metadata": {
        "id": "yGbKMwH5Tk2f"
      }
    },
    {
      "cell_type": "markdown",
      "source": [
        "### 5b. Find the log likelihood function (2 point)\n"
      ],
      "metadata": {
        "id": "pAnmIimOp0LM"
      }
    },
    {
      "cell_type": "markdown",
      "source": [
        "$\\log L(\\theta) = n \\log \\theta + \\left( \\sum_{i=1}^{n} x_i - n \\right) \\log (1 - \\theta)$"
      ],
      "metadata": {
        "id": "8xvUo89QUoE8"
      }
    },
    {
      "cell_type": "markdown",
      "source": [
        "### 5c. Maximize the log likelihood function using calculus and find the MLE of $\\theta$ (check the second derivative as well) (6 points)"
      ],
      "metadata": {
        "id": "gBfilxK5p-V7"
      }
    },
    {
      "cell_type": "markdown",
      "source": [
        "$$ \\log L(\\theta) = n \\log \\theta + \\left( \\sum_{i=1}^{n} x_i - n \\right) \\log (1 - \\theta)$$\n",
        "\n",
        "$\\text{Taking the derivative of the log-likelihood function: }$\n",
        "\n",
        "$$\\frac{d}{d\\theta} \\log L(\\theta) = \\frac{n}{\\theta} - \\frac{\\sum_{i=1}^{n} x_i - n}{1 - \\theta}$$\n",
        "\n",
        "$\\text{Setting the derivative equal to zero:}$\n",
        "\n",
        "$$\\frac{n}{\\theta} = \\frac{\\sum_{i=1}^{n} x_i - n}{1 - \\theta}$$\n",
        "\n",
        "$\\text{Solving for $\\theta$:}$\n",
        "\n",
        "$$\\hat{\\theta} = \\frac{n}{\\sum_{i=1}^{n} x_i}$$\n",
        "\n",
        "$\\text{So, the MLE of $\\theta$ is:}$\n",
        "$$\\hat{\\theta} = \\frac{n}{\\sum_{i=1}^{n} x_i}$$\n",
        "\n"
      ],
      "metadata": {
        "id": "VoDMCf07WQ2J"
      }
    },
    {
      "cell_type": "markdown",
      "source": [
        "## Question 6 [5 points]\n",
        "\n",
        "Spam filters work by looking at commonly occurring phrases in spam. 80% of all emails sent out are spam. In 10% of the spam emails, the phrase “get rich” is used, whereas this get is only used in 1% of non-spam emails. A new email has just arrived, which does mention “get rich”. What is the probability that it is spam?\n"
      ],
      "metadata": {
        "id": "pML7oCm8qF2P"
      }
    },
    {
      "cell_type": "markdown",
      "source": [
        "$\\text{We can use Bayes' Theorem to solve this problem:}$\n",
        "\n",
        "$$P(\\text{Spam} | \\text{get rich}) = \\frac{P(\\text{get rich} | \\text{Spam}) P(\\text{Spam})}{P(\\text{get rich})}$$\n",
        "\n",
        "$\\text{Where:}$\n",
        "\n",
        "$$P(\\text{get rich}) = P(\\text{get rich} | \\text{Spam}) P(\\text{Spam}) + P(\\text{get rich} | \\text{Not Spam}) P(\\text{Not Spam})$$\n",
        "\n",
        "\n",
        "$\\text{We substitute the given values: }$\n",
        "\n",
        "$$P(\\text{get rich}) = (0.1 \\times 0.8) + (0.01 \\times 0.2) = 0.08 + 0.002 = 0.082$$\n",
        "\n",
        "\n",
        "$\\text{Now, we can apply Bayes' Theorem:}$\n",
        "\n",
        "$$P(\\text{Spam} | \\text{get rich}) = \\frac{(0.1 \\times 0.8)}{0.082} = \\frac{0.08}{0.082} \\approx 0.9756$$\n",
        "\n",
        "\n",
        "$\\text{Thus, the probability that the email is spam given that it mentions \"get rich\" is approximately 0.9756 or 97.56%.}$\n"
      ],
      "metadata": {
        "id": "SC67-AzDZN1C"
      }
    },
    {
      "cell_type": "markdown",
      "source": [
        "## Question 7 [5 points]\n",
        "Recall that covariance is a measure of how two random variables change together. It quantifies the degree to which one variable tends to increase or decrease when the other variable does the same.\n",
        "\n",
        "We looked at two different ways of looking at covariance.\n",
        "\n",
        "$$Cov(X, Y) = E[(X − E(X))(Y − E(Y))] = E[XY] − E[X]E[Y]$$\n"
      ],
      "metadata": {
        "id": "W5WwmbEYqgGn"
      }
    },
    {
      "cell_type": "markdown",
      "source": [
        "### 7.1 [2 points]\n",
        "\n",
        "Starting from $Cov(X, Y) = E[(X − E(X))(Y − E(Y))]$, prove that this is equivalent to $E[XY] − E[X]E[Y]$"
      ],
      "metadata": {
        "id": "4EV8qiDNsOz9"
      }
    },
    {
      "cell_type": "markdown",
      "source": [
        "$\\text{Starting with the definition of covariance:}$\n",
        "\n",
        "$$\\text{Cov}(X, Y) = E[(X - E[X])(Y - E[Y])]$$\n",
        "\n",
        "$\\text{Expanding the terms inside the expectation:}$\n",
        "\n",
        "$$= E[XY - X E[Y] - Y E[X] + E[X]E[Y]]$$\n",
        "\n",
        "$\\text{Using the linearity of expectation rule, we have:}$\n",
        "\n",
        "$$= E[XY] - E[X]E[Y] - E[Y]E[X] + E[X]E[Y]$$\n",
        "\n",
        "$\\text{Since $E[X]E[Y]$ is constant, the last two terms cancel:}$\n",
        "\n",
        "$$= E[XY] - E[X]E[Y]$$\n",
        "\n",
        "$\\text{Thus, we have:}$\n",
        "\n",
        "$$\\text{Cov}(X, Y) = E[XY] - E[X]E[Y]$$\n"
      ],
      "metadata": {
        "id": "-OG00SixgiHL"
      }
    },
    {
      "cell_type": "markdown",
      "source": [
        "### 7.2 [3 points]\n",
        "\n",
        "Prove:\n",
        "\n",
        "$$Cov(X, Y+Z) = Cov(X, Y) + Cov(X, Z)$$"
      ],
      "metadata": {
        "id": "OPltKnyAsapX"
      }
    },
    {
      "cell_type": "markdown",
      "source": [
        "$\\text{Starting with the definition of covariance for $\\text{Cov}(X, Y + Z)$:}$\n",
        "\n",
        "\n",
        "$$\\text{Cov}(X, Y + Z) = E[(X - E[X])((Y + Z) - E[Y + Z])]$$\n",
        "\n",
        "$\\text{Since $E[Y + Z] = E[Y] + E[Z]$, we rewrite the equation as:}$\n",
        "\n",
        "$$= E[(X - E[X])((Y - E[Y]) + (Z - E[Z]))]$$\n",
        "\n",
        "$\\text{Distributing the terms:}$\n",
        "\n",
        "$$= E[(X - E[X])(Y - E[Y])] + E[(X - E[X])(Z - E[Z])]$$\n",
        "\n",
        "$\\text{Thus, we have:}$\n",
        "\n",
        "$$\\text{Cov}(X, Y + Z) = \\text{Cov}(X, Y) + \\text{Cov}(X, Z)$$\n",
        "\n",
        "\n"
      ],
      "metadata": {
        "id": "HbqBEy9DiRMz"
      }
    },
    {
      "cell_type": "markdown",
      "source": [
        "## Question 8 [5 points]\n",
        "\n",
        "Let $H$ be a binary random variable that can take values in $\\{0,1\\}$. You can think of $H$ as indicating whether a certain condition is present ($H=1$) or absent ($H=0$).\n",
        "\n",
        "Let $X_1, X_2, \\dots, X_n$ be $n$ random variables (each can take on certain values - binary, categorical, or other types). You can think of these as $n$ different “symptoms” or “features.”\n",
        "\n",
        "**Assumption (Conditional Independence):**  \n",
        "We assume that, *given $H$*, the features $X_1, \\dots, X_n$ are conditionally independent. Symbolically, for each value $h \\in \\{0,1\\}$, we have:\n",
        "\n",
        "$$\n",
        "P\\bigl(X_1 = x_1, X_2 = x_2, \\dots, X_n = x_n \\,|\\, H = h\\bigr)\n",
        "= \\prod_{i=1}^n P\\bigl(X_i = x_i \\,|\\, H = h\\bigr).\n",
        "$$\n",
        "\n",
        "(Note: This is the “naive” conditional independence assumption often used in certain classification methods, but we won't dive into the classification algorithm itself.)\n",
        "\n",
        "\n",
        "### 8.1. Factorizing the Joint Probability [1 point]\n",
        "\n",
        "1. **Discuss** why the conditional independence might be practically useful when $n$ is large. (Hint: Consider how many parameters or probability values you need to estimate in a general joint distribution of $n$ variables vs. how many you need to estimate if you assume conditional independence.)\n",
        "\n",
        "\n",
        "### 8.2. Computing the Posterior Probability of $H$ [1 point]\n",
        "\n",
        "Using Bayes' Theorem, we can write:\n",
        "\n",
        "$$\n",
        "P\\bigl(H = h \\mid X_1 = x_1, \\ldots, X_n = x_n \\bigr)\n",
        "= \\frac{P\\bigl(X_1 = x_1, \\ldots, X_n = x_n \\mid H = h\\bigr)\\, P(H = h)}\n",
        "       {P\\bigl(X_1 = x_1, \\ldots, X_n = x_n\\bigr)}.\n",
        "$$\n",
        "\n",
        "**Express** $P(H = h \\mid X_1 = x_1, \\ldots, X_n = x_n)$ by substituting in:\n",
        "   - The factorized form for $P\\bigl(X_1 = x_1, \\ldots, X_n = x_n \\mid H = h\\bigr)$.\n",
        "   - The prior $P(H = h)$.\n",
        "   - The law of total probability for the denominator\n",
        "\n",
        "\n",
        "\n",
        "### 8.3. Comparing Two Posterior Hypotheses [1 point]\n",
        "\n",
        "Often, we are interested in comparing whether $H=1$ or $H=0$ is more likely after observing $X_1 = x_1, \\ldots, X_n = x_n$. Show that:\n",
        "\n",
        "$$\n",
        "\\frac{P(H = 1 \\mid X_1 = x_1, \\ldots, X_n = x_n)}\n",
        "     {P(H = 0 \\mid X_1 = x_1, \\ldots, X_n = x_n)}\n",
        "= \\frac{P(H = 1)}{P(H = 0)}\n",
        "  \\times\n",
        "  \\frac{\\prod_{i=1}^n P(X_i = x_i \\mid H = 1)}\n",
        "       {\\prod_{i=1}^n P(X_i = x_i \\mid H = 0)}.\n",
        "$$\n",
        "\n",
        "\n",
        "### 8.4. Practicality of Conditional Independence [2 points]\n",
        "\n",
        "Conditional independence assumption is a naive assumption. Give a real life scenario where the assumption might fail.\n",
        "\n",
        "Do you think the conditional independence assumption over or underestimates the true probability?\n"
      ],
      "metadata": {
        "id": "c0fsDJvsyDzB"
      }
    },
    {
      "cell_type": "markdown",
      "source": [
        "##8.1\n",
        "\n",
        "When $n$ is large, estimating joint probabilities can become computationally expensive, especially when we have to estimate a large number of parameters. If we assume that the features $X_1, X_2, \\dots, X_n$ are conditionally independent given the condition $H$, we can greatly reduce the number of parameters to estimate.\n",
        "\n",
        "This means that instead of estimating the full joint distribution of $n$ variables, we can simply estimate the individual conditional distributions:\n",
        "\n",
        "$P(X_1, X_2, \\dots, X_n | H = h) = \\prod_{i=1}^n P(X_i | H = h)$\n",
        "\n",
        "Using this assumption of conditional independence therefore makes calculations more manageable when we are dealing with a large number of variables, as the complexity is significantly reduced.\n",
        "\n"
      ],
      "metadata": {
        "id": "bkXvG_KmjaS6"
      }
    },
    {
      "cell_type": "markdown",
      "source": [
        "## 8.2\n",
        "\n",
        "Using Bayes' Theorem, we can express the posterior probability as:\n",
        "\n",
        "\n",
        "$$P(H = h | X_1 = x_1, \\dots, X_n = x_n) = \\frac{P(X_1 = x_1, \\dots, X_n = x_n | H = h) P(H = h)}{P(X_1 = x_1, \\dots, X_n = x_n)}$$\n",
        "\n",
        "By assuming conditional independence, we have:\n",
        "\n",
        "$$P(X_1 = x_1, \\dots, X_n=x_n | H=h) = \\prod_{i=1}^n P(X_i = x_i | H=h)$$\n",
        "\n",
        "This simplifies the posterior calculation by allowing us to compute the conditional probability for each feature independently, so now we can express the equation as:\n",
        "\n",
        "$$P(H = h \\mid X_1 = x_1, \\dots, X_n = x_n) = \\frac{P(H = h) \\prod_{i=1}^{n} P(X_i = x_i \\mid H = h)}{P(X_1 = x_1, \\dots, X_n = x_n)}$$"
      ],
      "metadata": {
        "id": "kxa1NXm-nPWU"
      }
    },
    {
      "cell_type": "markdown",
      "source": [
        "## 8.3\n",
        "\n",
        "Given that we want to show that:\n",
        "\n",
        "$$\\frac{P(H = 1 | X_1 = x_1, \\dots, X_n = x_n)}{P(H = 0 | X_1 = x_1, \\dots, X_n = x_n)} = \\frac{P(H = 1)}{P(H = 0)} \\prod_{i=1}^n \\frac{P(X_i = x_i | H = 1)}{P(X_i = x_i | H = 0)}$$\n",
        "\n",
        "We can use Bayes’ Theorem, to factor the likelihood terms:\n",
        "\n",
        "$$P(H = h | X_1 = x_1, \\dots, X_n = x_n) = \\frac{P(X_1 = x_1, \\dots, X_n = x_n | H = h) P(H = h)}{P(X_1 = x_1, \\dots, X_n = x_n)}$$\n",
        "\n",
        "This gives us:\n",
        "\n",
        "\n",
        "$$\\frac{P(H = 1 | X_1 = x_1, \\dots, X_n = x_n)}{P(H = 0 | X_1 = x_1, \\dots, X_n = x_n)} = \\frac{P(H = 1)}{P(H = 0)} \\prod_{i=1}^n \\frac{P(X_i = x_i | H = 1)}{P(X_i = x_i | H = 0)}$$\n",
        "\n",
        "\n",
        "Since the conditional independence assumption holds, we can factor the likelihood terms:\n",
        "\n",
        "$$= \\frac{P(H = 1)}{P(H = 0)} \\prod_{i=1}^n \\frac{P(X_i = x_i | H = 1)}{P(X_i = x_i | H = 0)}$$\n",
        "\n",
        "This means that the ratio of the posteriors is the product of the ratio of the likelihoods for each feature $X_i$, which is weighted by the prior odds between $H=1$ and $H=0$.\n"
      ],
      "metadata": {
        "id": "E-qndINu4qXA"
      }
    },
    {
      "cell_type": "markdown",
      "source": [
        "## 8.4\n",
        "\n",
        "A real-life scenario where the conditional independence assumption might fail would be a spam filter trying to classify emails as \"spam\" or \"not spam.\" In this scenario, features like the presence of specific words (e.g., \"sale,\" \"free,\" \"discount,\" or \"get rich\" as mentioned earlier) and the sender's address are being used to make the classification. In this case, the conditional independence assumption assumes that, given the label (spam or not spam), the features (words in the email) are independent of each other. For example, it would assume that the occurrence of the word \"sale\" is independent of the word \"discount,\" given that the email is spam. However, in reality, these words are often correlated in spam emails. If an email contains the word \"sale,\" it's likely that the word \"discount\" or \"offer\" would also appear, especially in spam emails. Thus, the conditional independence assumption would underestimate the true probability in real-life scenarios like this one because it ignores the potential correlations between features that tend to co-occur in spam emails. As a result, the model would fail to capture the relationships between words in this case, which would lead to less accurate predictions."
      ],
      "metadata": {
        "id": "PuKZt6Aq8KqT"
      }
    }
  ]
}