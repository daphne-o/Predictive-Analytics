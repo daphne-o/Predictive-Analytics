{
  "nbformat": 4,
  "nbformat_minor": 0,
  "metadata": {
    "colab": {
      "provenance": []
    },
    "kernelspec": {
      "name": "python3",
      "display_name": "Python 3"
    },
    "language_info": {
      "name": "python"
    }
  },
  "cells": [
    {
      "cell_type": "markdown",
      "source": [
        "# Credit Approval Data Clustering with k-means, k-modes, and k-prototypes\n",
        "\n",
        "*Objective:*\n",
        "This assignment involves clustering the Credit Approval Dataset using k-means, k-modes, and k-prototypes algorithms, implemented from scratch. The goal is to group credit applicants into clusters based on numeric, categorical, and mixed attributes. Each algorithm will be applied to the dataset to understand how clustering performance is influenced by the different types of features.\n",
        "\n",
        "I deliberately chose an algorithm where we have the target variable available. So we can compare the performance of the algorithms.\n",
        "\n",
        "[Here](https://archive.ics.uci.edu/dataset/27/credit+approval) is a detailed look at the data"
      ],
      "metadata": {
        "id": "dsV5Lixi_e0V"
      }
    },
    {
      "cell_type": "markdown",
      "source": [
        "## Step 1: Data Loading and Preprocessing\n",
        "\n",
        "Objective: Load the dataset, handle missing values, and encode categorical features manually for use in the k-means, k-modes, and k-prototypes algorithms.\n",
        "\n",
        "As you can see no column names are provided. So you have no idea what these variables stand for. Here is the information that is provided:\n",
        "\n",
        "    A1:\tb, a.\n",
        "    A2:\tcontinuous.\n",
        "    A3:\tcontinuous.\n",
        "    A4:\tu, y, l, t.\n",
        "    A5:\tg, p, gg.\n",
        "    A6:\tc, d, cc, i, j, k, m, r, q, w, x, e, aa, ff.\n",
        "    A7:\tv, h, bb, j, n, z, dd, ff, o.\n",
        "    A8:\tcontinuous.\n",
        "    A9:\tt, f.\n",
        "    A10:\tt, f.\n",
        "    A11:\tcontinuous.\n",
        "    A12:\tt, f.\n",
        "    A13:\tg, p, s.\n",
        "    A14:\tcontinuous.\n",
        "    A15:\tcontinuous.\n",
        "    A16: +,-         (class attribute)\n",
        "  \n",
        "\n",
        "Your task is:\n",
        "\n",
        "1.  Read in the dataset, label the columns appropriately, make sure you label the target column as \"target\" to avoid any confusion.\n",
        "2. Deal with the missing values. For this dataset, the missing values are encoded as \"?\". You can tell `pd.read_csv()` how missing values are encoded using the `na_values=` argument. Then it will read the missing values correctly. To keep things simple, you should drop the rows with missing values since there are not that many of them.\n",
        "\n"
      ],
      "metadata": {
        "id": "Wx9MdoWAG6Ry"
      }
    },
    {
      "cell_type": "code",
      "source": [
        "import seaborn as sns\n",
        "import pandas as pd\n",
        "import numpy as np\n",
        "from sklearn.metrics import accuracy_score\n",
        "import matplotlib.pyplot as plt\n",
        "pd.options.mode.copy_on_write = True\n",
        "np.set_printoptions(suppress=True,precision=4)"
      ],
      "metadata": {
        "id": "9ChSGuAlM7WK"
      },
      "execution_count": 1,
      "outputs": []
    },
    {
      "cell_type": "code",
      "execution_count": 2,
      "metadata": {
        "id": "XzBHzkRl-BL4"
      },
      "outputs": [],
      "source": [
        "# Load the Credit Approval Dataset\n",
        "url = 'https://archive.ics.uci.edu/ml/machine-learning-databases/credit-screening/crx.data'\n",
        "credit = pd.read_csv(url, header=None, na_values='?')"
      ]
    },
    {
      "cell_type": "code",
      "source": [
        "# add the column names\n",
        "credit.columns = [\"A\" + str(x) for x in range(1, 17)]\n",
        "credit.head()"
      ],
      "metadata": {
        "id": "cRvrFF7kHsYD",
        "colab": {
          "base_uri": "https://localhost:8080/",
          "height": 206
        },
        "outputId": "ac922b6e-6557-411c-8c82-96657b8dbf13"
      },
      "execution_count": 3,
      "outputs": [
        {
          "output_type": "execute_result",
          "data": {
            "text/plain": [
              "  A1     A2     A3 A4 A5 A6 A7    A8 A9 A10  A11 A12 A13    A14  A15 A16\n",
              "0  b  30.83  0.000  u  g  w  v  1.25  t   t    1   f   g  202.0    0   +\n",
              "1  a  58.67  4.460  u  g  q  h  3.04  t   t    6   f   g   43.0  560   +\n",
              "2  a  24.50  0.500  u  g  q  h  1.50  t   f    0   f   g  280.0  824   +\n",
              "3  b  27.83  1.540  u  g  w  v  3.75  t   t    5   t   g  100.0    3   +\n",
              "4  b  20.17  5.625  u  g  w  v  1.71  t   f    0   f   s  120.0    0   +"
            ],
            "text/html": [
              "\n",
              "  <div id=\"df-7ac36b3c-4710-45d6-960a-61dd828e1d45\" class=\"colab-df-container\">\n",
              "    <div>\n",
              "<style scoped>\n",
              "    .dataframe tbody tr th:only-of-type {\n",
              "        vertical-align: middle;\n",
              "    }\n",
              "\n",
              "    .dataframe tbody tr th {\n",
              "        vertical-align: top;\n",
              "    }\n",
              "\n",
              "    .dataframe thead th {\n",
              "        text-align: right;\n",
              "    }\n",
              "</style>\n",
              "<table border=\"1\" class=\"dataframe\">\n",
              "  <thead>\n",
              "    <tr style=\"text-align: right;\">\n",
              "      <th></th>\n",
              "      <th>A1</th>\n",
              "      <th>A2</th>\n",
              "      <th>A3</th>\n",
              "      <th>A4</th>\n",
              "      <th>A5</th>\n",
              "      <th>A6</th>\n",
              "      <th>A7</th>\n",
              "      <th>A8</th>\n",
              "      <th>A9</th>\n",
              "      <th>A10</th>\n",
              "      <th>A11</th>\n",
              "      <th>A12</th>\n",
              "      <th>A13</th>\n",
              "      <th>A14</th>\n",
              "      <th>A15</th>\n",
              "      <th>A16</th>\n",
              "    </tr>\n",
              "  </thead>\n",
              "  <tbody>\n",
              "    <tr>\n",
              "      <th>0</th>\n",
              "      <td>b</td>\n",
              "      <td>30.83</td>\n",
              "      <td>0.000</td>\n",
              "      <td>u</td>\n",
              "      <td>g</td>\n",
              "      <td>w</td>\n",
              "      <td>v</td>\n",
              "      <td>1.25</td>\n",
              "      <td>t</td>\n",
              "      <td>t</td>\n",
              "      <td>1</td>\n",
              "      <td>f</td>\n",
              "      <td>g</td>\n",
              "      <td>202.0</td>\n",
              "      <td>0</td>\n",
              "      <td>+</td>\n",
              "    </tr>\n",
              "    <tr>\n",
              "      <th>1</th>\n",
              "      <td>a</td>\n",
              "      <td>58.67</td>\n",
              "      <td>4.460</td>\n",
              "      <td>u</td>\n",
              "      <td>g</td>\n",
              "      <td>q</td>\n",
              "      <td>h</td>\n",
              "      <td>3.04</td>\n",
              "      <td>t</td>\n",
              "      <td>t</td>\n",
              "      <td>6</td>\n",
              "      <td>f</td>\n",
              "      <td>g</td>\n",
              "      <td>43.0</td>\n",
              "      <td>560</td>\n",
              "      <td>+</td>\n",
              "    </tr>\n",
              "    <tr>\n",
              "      <th>2</th>\n",
              "      <td>a</td>\n",
              "      <td>24.50</td>\n",
              "      <td>0.500</td>\n",
              "      <td>u</td>\n",
              "      <td>g</td>\n",
              "      <td>q</td>\n",
              "      <td>h</td>\n",
              "      <td>1.50</td>\n",
              "      <td>t</td>\n",
              "      <td>f</td>\n",
              "      <td>0</td>\n",
              "      <td>f</td>\n",
              "      <td>g</td>\n",
              "      <td>280.0</td>\n",
              "      <td>824</td>\n",
              "      <td>+</td>\n",
              "    </tr>\n",
              "    <tr>\n",
              "      <th>3</th>\n",
              "      <td>b</td>\n",
              "      <td>27.83</td>\n",
              "      <td>1.540</td>\n",
              "      <td>u</td>\n",
              "      <td>g</td>\n",
              "      <td>w</td>\n",
              "      <td>v</td>\n",
              "      <td>3.75</td>\n",
              "      <td>t</td>\n",
              "      <td>t</td>\n",
              "      <td>5</td>\n",
              "      <td>t</td>\n",
              "      <td>g</td>\n",
              "      <td>100.0</td>\n",
              "      <td>3</td>\n",
              "      <td>+</td>\n",
              "    </tr>\n",
              "    <tr>\n",
              "      <th>4</th>\n",
              "      <td>b</td>\n",
              "      <td>20.17</td>\n",
              "      <td>5.625</td>\n",
              "      <td>u</td>\n",
              "      <td>g</td>\n",
              "      <td>w</td>\n",
              "      <td>v</td>\n",
              "      <td>1.71</td>\n",
              "      <td>t</td>\n",
              "      <td>f</td>\n",
              "      <td>0</td>\n",
              "      <td>f</td>\n",
              "      <td>s</td>\n",
              "      <td>120.0</td>\n",
              "      <td>0</td>\n",
              "      <td>+</td>\n",
              "    </tr>\n",
              "  </tbody>\n",
              "</table>\n",
              "</div>\n",
              "    <div class=\"colab-df-buttons\">\n",
              "\n",
              "  <div class=\"colab-df-container\">\n",
              "    <button class=\"colab-df-convert\" onclick=\"convertToInteractive('df-7ac36b3c-4710-45d6-960a-61dd828e1d45')\"\n",
              "            title=\"Convert this dataframe to an interactive table.\"\n",
              "            style=\"display:none;\">\n",
              "\n",
              "  <svg xmlns=\"http://www.w3.org/2000/svg\" height=\"24px\" viewBox=\"0 -960 960 960\">\n",
              "    <path d=\"M120-120v-720h720v720H120Zm60-500h600v-160H180v160Zm220 220h160v-160H400v160Zm0 220h160v-160H400v160ZM180-400h160v-160H180v160Zm440 0h160v-160H620v160ZM180-180h160v-160H180v160Zm440 0h160v-160H620v160Z\"/>\n",
              "  </svg>\n",
              "    </button>\n",
              "\n",
              "  <style>\n",
              "    .colab-df-container {\n",
              "      display:flex;\n",
              "      gap: 12px;\n",
              "    }\n",
              "\n",
              "    .colab-df-convert {\n",
              "      background-color: #E8F0FE;\n",
              "      border: none;\n",
              "      border-radius: 50%;\n",
              "      cursor: pointer;\n",
              "      display: none;\n",
              "      fill: #1967D2;\n",
              "      height: 32px;\n",
              "      padding: 0 0 0 0;\n",
              "      width: 32px;\n",
              "    }\n",
              "\n",
              "    .colab-df-convert:hover {\n",
              "      background-color: #E2EBFA;\n",
              "      box-shadow: 0px 1px 2px rgba(60, 64, 67, 0.3), 0px 1px 3px 1px rgba(60, 64, 67, 0.15);\n",
              "      fill: #174EA6;\n",
              "    }\n",
              "\n",
              "    .colab-df-buttons div {\n",
              "      margin-bottom: 4px;\n",
              "    }\n",
              "\n",
              "    [theme=dark] .colab-df-convert {\n",
              "      background-color: #3B4455;\n",
              "      fill: #D2E3FC;\n",
              "    }\n",
              "\n",
              "    [theme=dark] .colab-df-convert:hover {\n",
              "      background-color: #434B5C;\n",
              "      box-shadow: 0px 1px 3px 1px rgba(0, 0, 0, 0.15);\n",
              "      filter: drop-shadow(0px 1px 2px rgba(0, 0, 0, 0.3));\n",
              "      fill: #FFFFFF;\n",
              "    }\n",
              "  </style>\n",
              "\n",
              "    <script>\n",
              "      const buttonEl =\n",
              "        document.querySelector('#df-7ac36b3c-4710-45d6-960a-61dd828e1d45 button.colab-df-convert');\n",
              "      buttonEl.style.display =\n",
              "        google.colab.kernel.accessAllowed ? 'block' : 'none';\n",
              "\n",
              "      async function convertToInteractive(key) {\n",
              "        const element = document.querySelector('#df-7ac36b3c-4710-45d6-960a-61dd828e1d45');\n",
              "        const dataTable =\n",
              "          await google.colab.kernel.invokeFunction('convertToInteractive',\n",
              "                                                    [key], {});\n",
              "        if (!dataTable) return;\n",
              "\n",
              "        const docLinkHtml = 'Like what you see? Visit the ' +\n",
              "          '<a target=\"_blank\" href=https://colab.research.google.com/notebooks/data_table.ipynb>data table notebook</a>'\n",
              "          + ' to learn more about interactive tables.';\n",
              "        element.innerHTML = '';\n",
              "        dataTable['output_type'] = 'display_data';\n",
              "        await google.colab.output.renderOutput(dataTable, element);\n",
              "        const docLink = document.createElement('div');\n",
              "        docLink.innerHTML = docLinkHtml;\n",
              "        element.appendChild(docLink);\n",
              "      }\n",
              "    </script>\n",
              "  </div>\n",
              "\n",
              "\n",
              "<div id=\"df-6a06ac04-4efd-4cb4-a940-583dbaf09ac2\">\n",
              "  <button class=\"colab-df-quickchart\" onclick=\"quickchart('df-6a06ac04-4efd-4cb4-a940-583dbaf09ac2')\"\n",
              "            title=\"Suggest charts\"\n",
              "            style=\"display:none;\">\n",
              "\n",
              "<svg xmlns=\"http://www.w3.org/2000/svg\" height=\"24px\"viewBox=\"0 0 24 24\"\n",
              "     width=\"24px\">\n",
              "    <g>\n",
              "        <path d=\"M19 3H5c-1.1 0-2 .9-2 2v14c0 1.1.9 2 2 2h14c1.1 0 2-.9 2-2V5c0-1.1-.9-2-2-2zM9 17H7v-7h2v7zm4 0h-2V7h2v10zm4 0h-2v-4h2v4z\"/>\n",
              "    </g>\n",
              "</svg>\n",
              "  </button>\n",
              "\n",
              "<style>\n",
              "  .colab-df-quickchart {\n",
              "      --bg-color: #E8F0FE;\n",
              "      --fill-color: #1967D2;\n",
              "      --hover-bg-color: #E2EBFA;\n",
              "      --hover-fill-color: #174EA6;\n",
              "      --disabled-fill-color: #AAA;\n",
              "      --disabled-bg-color: #DDD;\n",
              "  }\n",
              "\n",
              "  [theme=dark] .colab-df-quickchart {\n",
              "      --bg-color: #3B4455;\n",
              "      --fill-color: #D2E3FC;\n",
              "      --hover-bg-color: #434B5C;\n",
              "      --hover-fill-color: #FFFFFF;\n",
              "      --disabled-bg-color: #3B4455;\n",
              "      --disabled-fill-color: #666;\n",
              "  }\n",
              "\n",
              "  .colab-df-quickchart {\n",
              "    background-color: var(--bg-color);\n",
              "    border: none;\n",
              "    border-radius: 50%;\n",
              "    cursor: pointer;\n",
              "    display: none;\n",
              "    fill: var(--fill-color);\n",
              "    height: 32px;\n",
              "    padding: 0;\n",
              "    width: 32px;\n",
              "  }\n",
              "\n",
              "  .colab-df-quickchart:hover {\n",
              "    background-color: var(--hover-bg-color);\n",
              "    box-shadow: 0 1px 2px rgba(60, 64, 67, 0.3), 0 1px 3px 1px rgba(60, 64, 67, 0.15);\n",
              "    fill: var(--button-hover-fill-color);\n",
              "  }\n",
              "\n",
              "  .colab-df-quickchart-complete:disabled,\n",
              "  .colab-df-quickchart-complete:disabled:hover {\n",
              "    background-color: var(--disabled-bg-color);\n",
              "    fill: var(--disabled-fill-color);\n",
              "    box-shadow: none;\n",
              "  }\n",
              "\n",
              "  .colab-df-spinner {\n",
              "    border: 2px solid var(--fill-color);\n",
              "    border-color: transparent;\n",
              "    border-bottom-color: var(--fill-color);\n",
              "    animation:\n",
              "      spin 1s steps(1) infinite;\n",
              "  }\n",
              "\n",
              "  @keyframes spin {\n",
              "    0% {\n",
              "      border-color: transparent;\n",
              "      border-bottom-color: var(--fill-color);\n",
              "      border-left-color: var(--fill-color);\n",
              "    }\n",
              "    20% {\n",
              "      border-color: transparent;\n",
              "      border-left-color: var(--fill-color);\n",
              "      border-top-color: var(--fill-color);\n",
              "    }\n",
              "    30% {\n",
              "      border-color: transparent;\n",
              "      border-left-color: var(--fill-color);\n",
              "      border-top-color: var(--fill-color);\n",
              "      border-right-color: var(--fill-color);\n",
              "    }\n",
              "    40% {\n",
              "      border-color: transparent;\n",
              "      border-right-color: var(--fill-color);\n",
              "      border-top-color: var(--fill-color);\n",
              "    }\n",
              "    60% {\n",
              "      border-color: transparent;\n",
              "      border-right-color: var(--fill-color);\n",
              "    }\n",
              "    80% {\n",
              "      border-color: transparent;\n",
              "      border-right-color: var(--fill-color);\n",
              "      border-bottom-color: var(--fill-color);\n",
              "    }\n",
              "    90% {\n",
              "      border-color: transparent;\n",
              "      border-bottom-color: var(--fill-color);\n",
              "    }\n",
              "  }\n",
              "</style>\n",
              "\n",
              "  <script>\n",
              "    async function quickchart(key) {\n",
              "      const quickchartButtonEl =\n",
              "        document.querySelector('#' + key + ' button');\n",
              "      quickchartButtonEl.disabled = true;  // To prevent multiple clicks.\n",
              "      quickchartButtonEl.classList.add('colab-df-spinner');\n",
              "      try {\n",
              "        const charts = await google.colab.kernel.invokeFunction(\n",
              "            'suggestCharts', [key], {});\n",
              "      } catch (error) {\n",
              "        console.error('Error during call to suggestCharts:', error);\n",
              "      }\n",
              "      quickchartButtonEl.classList.remove('colab-df-spinner');\n",
              "      quickchartButtonEl.classList.add('colab-df-quickchart-complete');\n",
              "    }\n",
              "    (() => {\n",
              "      let quickchartButtonEl =\n",
              "        document.querySelector('#df-6a06ac04-4efd-4cb4-a940-583dbaf09ac2 button');\n",
              "      quickchartButtonEl.style.display =\n",
              "        google.colab.kernel.accessAllowed ? 'block' : 'none';\n",
              "    })();\n",
              "  </script>\n",
              "</div>\n",
              "\n",
              "    </div>\n",
              "  </div>\n"
            ],
            "application/vnd.google.colaboratory.intrinsic+json": {
              "type": "dataframe",
              "variable_name": "credit",
              "summary": "{\n  \"name\": \"credit\",\n  \"rows\": 690,\n  \"fields\": [\n    {\n      \"column\": \"A1\",\n      \"properties\": {\n        \"dtype\": \"category\",\n        \"num_unique_values\": 2,\n        \"samples\": [\n          \"a\",\n          \"b\"\n        ],\n        \"semantic_type\": \"\",\n        \"description\": \"\"\n      }\n    },\n    {\n      \"column\": \"A2\",\n      \"properties\": {\n        \"dtype\": \"number\",\n        \"std\": 11.957862498270877,\n        \"min\": 13.75,\n        \"max\": 80.25,\n        \"num_unique_values\": 349,\n        \"samples\": [\n          34.5,\n          31.58\n        ],\n        \"semantic_type\": \"\",\n        \"description\": \"\"\n      }\n    },\n    {\n      \"column\": \"A3\",\n      \"properties\": {\n        \"dtype\": \"number\",\n        \"std\": 4.978163248528541,\n        \"min\": 0.0,\n        \"max\": 28.0,\n        \"num_unique_values\": 215,\n        \"samples\": [\n          10.415,\n          3.29\n        ],\n        \"semantic_type\": \"\",\n        \"description\": \"\"\n      }\n    },\n    {\n      \"column\": \"A4\",\n      \"properties\": {\n        \"dtype\": \"category\",\n        \"num_unique_values\": 3,\n        \"samples\": [\n          \"u\",\n          \"y\"\n        ],\n        \"semantic_type\": \"\",\n        \"description\": \"\"\n      }\n    },\n    {\n      \"column\": \"A5\",\n      \"properties\": {\n        \"dtype\": \"category\",\n        \"num_unique_values\": 3,\n        \"samples\": [\n          \"g\",\n          \"p\"\n        ],\n        \"semantic_type\": \"\",\n        \"description\": \"\"\n      }\n    },\n    {\n      \"column\": \"A6\",\n      \"properties\": {\n        \"dtype\": \"category\",\n        \"num_unique_values\": 14,\n        \"samples\": [\n          \"i\",\n          \"aa\"\n        ],\n        \"semantic_type\": \"\",\n        \"description\": \"\"\n      }\n    },\n    {\n      \"column\": \"A7\",\n      \"properties\": {\n        \"dtype\": \"category\",\n        \"num_unique_values\": 9,\n        \"samples\": [\n          \"dd\",\n          \"h\"\n        ],\n        \"semantic_type\": \"\",\n        \"description\": \"\"\n      }\n    },\n    {\n      \"column\": \"A8\",\n      \"properties\": {\n        \"dtype\": \"number\",\n        \"std\": 3.3465133592781333,\n        \"min\": 0.0,\n        \"max\": 28.5,\n        \"num_unique_values\": 132,\n        \"samples\": [\n          13.5,\n          2.375\n        ],\n        \"semantic_type\": \"\",\n        \"description\": \"\"\n      }\n    },\n    {\n      \"column\": \"A9\",\n      \"properties\": {\n        \"dtype\": \"category\",\n        \"num_unique_values\": 2,\n        \"samples\": [\n          \"f\",\n          \"t\"\n        ],\n        \"semantic_type\": \"\",\n        \"description\": \"\"\n      }\n    },\n    {\n      \"column\": \"A10\",\n      \"properties\": {\n        \"dtype\": \"category\",\n        \"num_unique_values\": 2,\n        \"samples\": [\n          \"f\",\n          \"t\"\n        ],\n        \"semantic_type\": \"\",\n        \"description\": \"\"\n      }\n    },\n    {\n      \"column\": \"A11\",\n      \"properties\": {\n        \"dtype\": \"number\",\n        \"std\": 4,\n        \"min\": 0,\n        \"max\": 67,\n        \"num_unique_values\": 23,\n        \"samples\": [\n          23,\n          9\n        ],\n        \"semantic_type\": \"\",\n        \"description\": \"\"\n      }\n    },\n    {\n      \"column\": \"A12\",\n      \"properties\": {\n        \"dtype\": \"category\",\n        \"num_unique_values\": 2,\n        \"samples\": [\n          \"t\",\n          \"f\"\n        ],\n        \"semantic_type\": \"\",\n        \"description\": \"\"\n      }\n    },\n    {\n      \"column\": \"A13\",\n      \"properties\": {\n        \"dtype\": \"category\",\n        \"num_unique_values\": 3,\n        \"samples\": [\n          \"g\",\n          \"s\"\n        ],\n        \"semantic_type\": \"\",\n        \"description\": \"\"\n      }\n    },\n    {\n      \"column\": \"A14\",\n      \"properties\": {\n        \"dtype\": \"number\",\n        \"std\": 173.80676822523824,\n        \"min\": 0.0,\n        \"max\": 2000.0,\n        \"num_unique_values\": 170,\n        \"samples\": [\n          263.0,\n          400.0\n        ],\n        \"semantic_type\": \"\",\n        \"description\": \"\"\n      }\n    },\n    {\n      \"column\": \"A15\",\n      \"properties\": {\n        \"dtype\": \"number\",\n        \"std\": 5210,\n        \"min\": 0,\n        \"max\": 100000,\n        \"num_unique_values\": 240,\n        \"samples\": [\n          100,\n          314\n        ],\n        \"semantic_type\": \"\",\n        \"description\": \"\"\n      }\n    },\n    {\n      \"column\": \"A16\",\n      \"properties\": {\n        \"dtype\": \"category\",\n        \"num_unique_values\": 2,\n        \"samples\": [\n          \"-\",\n          \"+\"\n        ],\n        \"semantic_type\": \"\",\n        \"description\": \"\"\n      }\n    }\n  ]\n}"
            }
          },
          "metadata": {},
          "execution_count": 3
        }
      ]
    },
    {
      "cell_type": "code",
      "source": [
        "# fill code to drop missing rows\n",
        "credit = credit.dropna()"
      ],
      "metadata": {
        "id": "YnNaxuDwMdbD"
      },
      "execution_count": 4,
      "outputs": []
    },
    {
      "cell_type": "code",
      "source": [
        "# lets reset the index since we dropped some rows\n",
        "credit.reset_index(inplace=True, drop=True)"
      ],
      "metadata": {
        "id": "7blPINQwanTK"
      },
      "execution_count": 5,
      "outputs": []
    },
    {
      "cell_type": "markdown",
      "source": [
        "## Step 2: Basic Data Exploration [5 points]\n",
        "\n",
        "Use the methods and techniques we learned in class and previous assignments to do some basic EDA. This should involve some summary tables, some charts, and some insights that you gather from the exploration."
      ],
      "metadata": {
        "id": "NorPwq5SMfj_"
      }
    },
    {
      "cell_type": "code",
      "source": [
        "# lets look at the continuous variablesm, describe them\n",
        "\n",
        "credit.describe()"
      ],
      "metadata": {
        "id": "BivICgxwMtHg",
        "colab": {
          "base_uri": "https://localhost:8080/",
          "height": 300
        },
        "outputId": "4cf74691-c2a5-4c60-f510-82a87cd1f2a1"
      },
      "execution_count": 6,
      "outputs": [
        {
          "output_type": "execute_result",
          "data": {
            "text/plain": [
              "               A2          A3          A8         A11          A14  \\\n",
              "count  653.000000  653.000000  653.000000  653.000000   653.000000   \n",
              "mean    31.503813    4.829533    2.244296    2.502297   180.359877   \n",
              "std     11.838267    5.027077    3.371120    4.968497   168.296811   \n",
              "min     13.750000    0.000000    0.000000    0.000000     0.000000   \n",
              "25%     22.580000    1.040000    0.165000    0.000000    73.000000   \n",
              "50%     28.420000    2.835000    1.000000    0.000000   160.000000   \n",
              "75%     38.250000    7.500000    2.625000    3.000000   272.000000   \n",
              "max     76.750000   28.000000   28.500000   67.000000  2000.000000   \n",
              "\n",
              "                 A15  \n",
              "count     653.000000  \n",
              "mean     1013.761103  \n",
              "std      5253.278504  \n",
              "min         0.000000  \n",
              "25%         0.000000  \n",
              "50%         5.000000  \n",
              "75%       400.000000  \n",
              "max    100000.000000  "
            ],
            "text/html": [
              "\n",
              "  <div id=\"df-ddee0b02-4056-4670-abf5-fa7b1e6f5dc4\" class=\"colab-df-container\">\n",
              "    <div>\n",
              "<style scoped>\n",
              "    .dataframe tbody tr th:only-of-type {\n",
              "        vertical-align: middle;\n",
              "    }\n",
              "\n",
              "    .dataframe tbody tr th {\n",
              "        vertical-align: top;\n",
              "    }\n",
              "\n",
              "    .dataframe thead th {\n",
              "        text-align: right;\n",
              "    }\n",
              "</style>\n",
              "<table border=\"1\" class=\"dataframe\">\n",
              "  <thead>\n",
              "    <tr style=\"text-align: right;\">\n",
              "      <th></th>\n",
              "      <th>A2</th>\n",
              "      <th>A3</th>\n",
              "      <th>A8</th>\n",
              "      <th>A11</th>\n",
              "      <th>A14</th>\n",
              "      <th>A15</th>\n",
              "    </tr>\n",
              "  </thead>\n",
              "  <tbody>\n",
              "    <tr>\n",
              "      <th>count</th>\n",
              "      <td>653.000000</td>\n",
              "      <td>653.000000</td>\n",
              "      <td>653.000000</td>\n",
              "      <td>653.000000</td>\n",
              "      <td>653.000000</td>\n",
              "      <td>653.000000</td>\n",
              "    </tr>\n",
              "    <tr>\n",
              "      <th>mean</th>\n",
              "      <td>31.503813</td>\n",
              "      <td>4.829533</td>\n",
              "      <td>2.244296</td>\n",
              "      <td>2.502297</td>\n",
              "      <td>180.359877</td>\n",
              "      <td>1013.761103</td>\n",
              "    </tr>\n",
              "    <tr>\n",
              "      <th>std</th>\n",
              "      <td>11.838267</td>\n",
              "      <td>5.027077</td>\n",
              "      <td>3.371120</td>\n",
              "      <td>4.968497</td>\n",
              "      <td>168.296811</td>\n",
              "      <td>5253.278504</td>\n",
              "    </tr>\n",
              "    <tr>\n",
              "      <th>min</th>\n",
              "      <td>13.750000</td>\n",
              "      <td>0.000000</td>\n",
              "      <td>0.000000</td>\n",
              "      <td>0.000000</td>\n",
              "      <td>0.000000</td>\n",
              "      <td>0.000000</td>\n",
              "    </tr>\n",
              "    <tr>\n",
              "      <th>25%</th>\n",
              "      <td>22.580000</td>\n",
              "      <td>1.040000</td>\n",
              "      <td>0.165000</td>\n",
              "      <td>0.000000</td>\n",
              "      <td>73.000000</td>\n",
              "      <td>0.000000</td>\n",
              "    </tr>\n",
              "    <tr>\n",
              "      <th>50%</th>\n",
              "      <td>28.420000</td>\n",
              "      <td>2.835000</td>\n",
              "      <td>1.000000</td>\n",
              "      <td>0.000000</td>\n",
              "      <td>160.000000</td>\n",
              "      <td>5.000000</td>\n",
              "    </tr>\n",
              "    <tr>\n",
              "      <th>75%</th>\n",
              "      <td>38.250000</td>\n",
              "      <td>7.500000</td>\n",
              "      <td>2.625000</td>\n",
              "      <td>3.000000</td>\n",
              "      <td>272.000000</td>\n",
              "      <td>400.000000</td>\n",
              "    </tr>\n",
              "    <tr>\n",
              "      <th>max</th>\n",
              "      <td>76.750000</td>\n",
              "      <td>28.000000</td>\n",
              "      <td>28.500000</td>\n",
              "      <td>67.000000</td>\n",
              "      <td>2000.000000</td>\n",
              "      <td>100000.000000</td>\n",
              "    </tr>\n",
              "  </tbody>\n",
              "</table>\n",
              "</div>\n",
              "    <div class=\"colab-df-buttons\">\n",
              "\n",
              "  <div class=\"colab-df-container\">\n",
              "    <button class=\"colab-df-convert\" onclick=\"convertToInteractive('df-ddee0b02-4056-4670-abf5-fa7b1e6f5dc4')\"\n",
              "            title=\"Convert this dataframe to an interactive table.\"\n",
              "            style=\"display:none;\">\n",
              "\n",
              "  <svg xmlns=\"http://www.w3.org/2000/svg\" height=\"24px\" viewBox=\"0 -960 960 960\">\n",
              "    <path d=\"M120-120v-720h720v720H120Zm60-500h600v-160H180v160Zm220 220h160v-160H400v160Zm0 220h160v-160H400v160ZM180-400h160v-160H180v160Zm440 0h160v-160H620v160ZM180-180h160v-160H180v160Zm440 0h160v-160H620v160Z\"/>\n",
              "  </svg>\n",
              "    </button>\n",
              "\n",
              "  <style>\n",
              "    .colab-df-container {\n",
              "      display:flex;\n",
              "      gap: 12px;\n",
              "    }\n",
              "\n",
              "    .colab-df-convert {\n",
              "      background-color: #E8F0FE;\n",
              "      border: none;\n",
              "      border-radius: 50%;\n",
              "      cursor: pointer;\n",
              "      display: none;\n",
              "      fill: #1967D2;\n",
              "      height: 32px;\n",
              "      padding: 0 0 0 0;\n",
              "      width: 32px;\n",
              "    }\n",
              "\n",
              "    .colab-df-convert:hover {\n",
              "      background-color: #E2EBFA;\n",
              "      box-shadow: 0px 1px 2px rgba(60, 64, 67, 0.3), 0px 1px 3px 1px rgba(60, 64, 67, 0.15);\n",
              "      fill: #174EA6;\n",
              "    }\n",
              "\n",
              "    .colab-df-buttons div {\n",
              "      margin-bottom: 4px;\n",
              "    }\n",
              "\n",
              "    [theme=dark] .colab-df-convert {\n",
              "      background-color: #3B4455;\n",
              "      fill: #D2E3FC;\n",
              "    }\n",
              "\n",
              "    [theme=dark] .colab-df-convert:hover {\n",
              "      background-color: #434B5C;\n",
              "      box-shadow: 0px 1px 3px 1px rgba(0, 0, 0, 0.15);\n",
              "      filter: drop-shadow(0px 1px 2px rgba(0, 0, 0, 0.3));\n",
              "      fill: #FFFFFF;\n",
              "    }\n",
              "  </style>\n",
              "\n",
              "    <script>\n",
              "      const buttonEl =\n",
              "        document.querySelector('#df-ddee0b02-4056-4670-abf5-fa7b1e6f5dc4 button.colab-df-convert');\n",
              "      buttonEl.style.display =\n",
              "        google.colab.kernel.accessAllowed ? 'block' : 'none';\n",
              "\n",
              "      async function convertToInteractive(key) {\n",
              "        const element = document.querySelector('#df-ddee0b02-4056-4670-abf5-fa7b1e6f5dc4');\n",
              "        const dataTable =\n",
              "          await google.colab.kernel.invokeFunction('convertToInteractive',\n",
              "                                                    [key], {});\n",
              "        if (!dataTable) return;\n",
              "\n",
              "        const docLinkHtml = 'Like what you see? Visit the ' +\n",
              "          '<a target=\"_blank\" href=https://colab.research.google.com/notebooks/data_table.ipynb>data table notebook</a>'\n",
              "          + ' to learn more about interactive tables.';\n",
              "        element.innerHTML = '';\n",
              "        dataTable['output_type'] = 'display_data';\n",
              "        await google.colab.output.renderOutput(dataTable, element);\n",
              "        const docLink = document.createElement('div');\n",
              "        docLink.innerHTML = docLinkHtml;\n",
              "        element.appendChild(docLink);\n",
              "      }\n",
              "    </script>\n",
              "  </div>\n",
              "\n",
              "\n",
              "<div id=\"df-0c445736-1c5b-48c8-bb07-dd4f8bdb3a39\">\n",
              "  <button class=\"colab-df-quickchart\" onclick=\"quickchart('df-0c445736-1c5b-48c8-bb07-dd4f8bdb3a39')\"\n",
              "            title=\"Suggest charts\"\n",
              "            style=\"display:none;\">\n",
              "\n",
              "<svg xmlns=\"http://www.w3.org/2000/svg\" height=\"24px\"viewBox=\"0 0 24 24\"\n",
              "     width=\"24px\">\n",
              "    <g>\n",
              "        <path d=\"M19 3H5c-1.1 0-2 .9-2 2v14c0 1.1.9 2 2 2h14c1.1 0 2-.9 2-2V5c0-1.1-.9-2-2-2zM9 17H7v-7h2v7zm4 0h-2V7h2v10zm4 0h-2v-4h2v4z\"/>\n",
              "    </g>\n",
              "</svg>\n",
              "  </button>\n",
              "\n",
              "<style>\n",
              "  .colab-df-quickchart {\n",
              "      --bg-color: #E8F0FE;\n",
              "      --fill-color: #1967D2;\n",
              "      --hover-bg-color: #E2EBFA;\n",
              "      --hover-fill-color: #174EA6;\n",
              "      --disabled-fill-color: #AAA;\n",
              "      --disabled-bg-color: #DDD;\n",
              "  }\n",
              "\n",
              "  [theme=dark] .colab-df-quickchart {\n",
              "      --bg-color: #3B4455;\n",
              "      --fill-color: #D2E3FC;\n",
              "      --hover-bg-color: #434B5C;\n",
              "      --hover-fill-color: #FFFFFF;\n",
              "      --disabled-bg-color: #3B4455;\n",
              "      --disabled-fill-color: #666;\n",
              "  }\n",
              "\n",
              "  .colab-df-quickchart {\n",
              "    background-color: var(--bg-color);\n",
              "    border: none;\n",
              "    border-radius: 50%;\n",
              "    cursor: pointer;\n",
              "    display: none;\n",
              "    fill: var(--fill-color);\n",
              "    height: 32px;\n",
              "    padding: 0;\n",
              "    width: 32px;\n",
              "  }\n",
              "\n",
              "  .colab-df-quickchart:hover {\n",
              "    background-color: var(--hover-bg-color);\n",
              "    box-shadow: 0 1px 2px rgba(60, 64, 67, 0.3), 0 1px 3px 1px rgba(60, 64, 67, 0.15);\n",
              "    fill: var(--button-hover-fill-color);\n",
              "  }\n",
              "\n",
              "  .colab-df-quickchart-complete:disabled,\n",
              "  .colab-df-quickchart-complete:disabled:hover {\n",
              "    background-color: var(--disabled-bg-color);\n",
              "    fill: var(--disabled-fill-color);\n",
              "    box-shadow: none;\n",
              "  }\n",
              "\n",
              "  .colab-df-spinner {\n",
              "    border: 2px solid var(--fill-color);\n",
              "    border-color: transparent;\n",
              "    border-bottom-color: var(--fill-color);\n",
              "    animation:\n",
              "      spin 1s steps(1) infinite;\n",
              "  }\n",
              "\n",
              "  @keyframes spin {\n",
              "    0% {\n",
              "      border-color: transparent;\n",
              "      border-bottom-color: var(--fill-color);\n",
              "      border-left-color: var(--fill-color);\n",
              "    }\n",
              "    20% {\n",
              "      border-color: transparent;\n",
              "      border-left-color: var(--fill-color);\n",
              "      border-top-color: var(--fill-color);\n",
              "    }\n",
              "    30% {\n",
              "      border-color: transparent;\n",
              "      border-left-color: var(--fill-color);\n",
              "      border-top-color: var(--fill-color);\n",
              "      border-right-color: var(--fill-color);\n",
              "    }\n",
              "    40% {\n",
              "      border-color: transparent;\n",
              "      border-right-color: var(--fill-color);\n",
              "      border-top-color: var(--fill-color);\n",
              "    }\n",
              "    60% {\n",
              "      border-color: transparent;\n",
              "      border-right-color: var(--fill-color);\n",
              "    }\n",
              "    80% {\n",
              "      border-color: transparent;\n",
              "      border-right-color: var(--fill-color);\n",
              "      border-bottom-color: var(--fill-color);\n",
              "    }\n",
              "    90% {\n",
              "      border-color: transparent;\n",
              "      border-bottom-color: var(--fill-color);\n",
              "    }\n",
              "  }\n",
              "</style>\n",
              "\n",
              "  <script>\n",
              "    async function quickchart(key) {\n",
              "      const quickchartButtonEl =\n",
              "        document.querySelector('#' + key + ' button');\n",
              "      quickchartButtonEl.disabled = true;  // To prevent multiple clicks.\n",
              "      quickchartButtonEl.classList.add('colab-df-spinner');\n",
              "      try {\n",
              "        const charts = await google.colab.kernel.invokeFunction(\n",
              "            'suggestCharts', [key], {});\n",
              "      } catch (error) {\n",
              "        console.error('Error during call to suggestCharts:', error);\n",
              "      }\n",
              "      quickchartButtonEl.classList.remove('colab-df-spinner');\n",
              "      quickchartButtonEl.classList.add('colab-df-quickchart-complete');\n",
              "    }\n",
              "    (() => {\n",
              "      let quickchartButtonEl =\n",
              "        document.querySelector('#df-0c445736-1c5b-48c8-bb07-dd4f8bdb3a39 button');\n",
              "      quickchartButtonEl.style.display =\n",
              "        google.colab.kernel.accessAllowed ? 'block' : 'none';\n",
              "    })();\n",
              "  </script>\n",
              "</div>\n",
              "\n",
              "    </div>\n",
              "  </div>\n"
            ],
            "application/vnd.google.colaboratory.intrinsic+json": {
              "type": "dataframe",
              "summary": "{\n  \"name\": \"credit\",\n  \"rows\": 8,\n  \"fields\": [\n    {\n      \"column\": \"A2\",\n      \"properties\": {\n        \"dtype\": \"number\",\n        \"std\": 220.53820805078558,\n        \"min\": 11.838267107399854,\n        \"max\": 653.0,\n        \"num_unique_values\": 8,\n        \"samples\": [\n          31.50381316998469,\n          28.42,\n          653.0\n        ],\n        \"semantic_type\": \"\",\n        \"description\": \"\"\n      }\n    },\n    {\n      \"column\": \"A3\",\n      \"properties\": {\n        \"dtype\": \"number\",\n        \"std\": 228.55627953268524,\n        \"min\": 0.0,\n        \"max\": 653.0,\n        \"num_unique_values\": 8,\n        \"samples\": [\n          4.829532924961716,\n          2.835,\n          653.0\n        ],\n        \"semantic_type\": \"\",\n        \"description\": \"\"\n      }\n    },\n    {\n      \"column\": \"A8\",\n      \"properties\": {\n        \"dtype\": \"number\",\n        \"std\": 229.15271965078534,\n        \"min\": 0.0,\n        \"max\": 653.0,\n        \"num_unique_values\": 8,\n        \"samples\": [\n          2.244295558958652,\n          1.0,\n          653.0\n        ],\n        \"semantic_type\": \"\",\n        \"description\": \"\"\n      }\n    },\n    {\n      \"column\": \"A11\",\n      \"properties\": {\n        \"dtype\": \"number\",\n        \"std\": 228.11009242132883,\n        \"min\": 0.0,\n        \"max\": 653.0,\n        \"num_unique_values\": 6,\n        \"samples\": [\n          653.0,\n          2.5022970903522204,\n          67.0\n        ],\n        \"semantic_type\": \"\",\n        \"description\": \"\"\n      }\n    },\n    {\n      \"column\": \"A14\",\n      \"properties\": {\n        \"dtype\": \"number\",\n        \"std\": 660.637717945961,\n        \"min\": 0.0,\n        \"max\": 2000.0,\n        \"num_unique_values\": 8,\n        \"samples\": [\n          180.35987748851454,\n          160.0,\n          653.0\n        ],\n        \"semantic_type\": \"\",\n        \"description\": \"\"\n      }\n    },\n    {\n      \"column\": \"A15\",\n      \"properties\": {\n        \"dtype\": \"number\",\n        \"std\": 35029.33069952745,\n        \"min\": 0.0,\n        \"max\": 100000.0,\n        \"num_unique_values\": 7,\n        \"samples\": [\n          653.0,\n          1013.7611026033691,\n          400.0\n        ],\n        \"semantic_type\": \"\",\n        \"description\": \"\"\n      }\n    }\n  ]\n}"
            }
          },
          "metadata": {},
          "execution_count": 6
        }
      ]
    },
    {
      "cell_type": "code",
      "source": [
        "# rename the 'A16' columne to target\n",
        "\n",
        "credit.rename(columns={'A16': 'target'}, inplace=True)"
      ],
      "metadata": {
        "id": "lnUZhXLRN6WR"
      },
      "execution_count": 7,
      "outputs": []
    },
    {
      "cell_type": "code",
      "source": [
        "# Map the target variable so that it is 0/1\n",
        "\n",
        "credit['target'] = credit['target'].map({'+': 1, '-': 0})"
      ],
      "metadata": {
        "id": "su8omMJtOFg2"
      },
      "execution_count": 8,
      "outputs": []
    },
    {
      "cell_type": "code",
      "source": [
        "# Find the correlations between the numeric variables\n",
        "\n",
        "numeric_cols = [\"A2\", \"A3\", \"A8\", \"A11\", \"A14\", \"A15\"]\n",
        "\n",
        "correlation_matrix = credit[numeric_cols].corr()\n",
        "\n",
        "sns.heatmap(correlation_matrix, annot=True, cmap=\"coolwarm\", fmt=\".2f\")\n"
      ],
      "metadata": {
        "id": "JFLA-zRtNUjF",
        "colab": {
          "base_uri": "https://localhost:8080/",
          "height": 453
        },
        "outputId": "c4d4096e-9c2e-4326-c420-2a31e64cd4fc"
      },
      "execution_count": 9,
      "outputs": [
        {
          "output_type": "execute_result",
          "data": {
            "text/plain": [
              "<Axes: >"
            ]
          },
          "metadata": {},
          "execution_count": 9
        },
        {
          "output_type": "display_data",
          "data": {
            "text/plain": [
              "<Figure size 640x480 with 2 Axes>"
            ],
            "image/png": "[encoded data removed]"
          },
          "metadata": {}
        }
      ]
    },
    {
      "cell_type": "markdown",
      "source": [
        "The scale of the variables seems to be very different. We will need to do some scaling."
      ],
      "metadata": {
        "id": "vYhem87-M1ez"
      }
    },
    {
      "cell_type": "code",
      "source": [
        "# fill in code to standardize the numeric variables\n",
        "\n",
        "for col in numeric_cols:\n",
        "    credit[col] = (credit[col] - credit[col].mean()) / credit[col].std()\n",
        "\n",
        "# check that the means are close to 0 and std is close to 1\n",
        "means = credit[numeric_cols].mean()\n",
        "stds = credit[numeric_cols].std()\n",
        "\n",
        "print(\"Means after standardization:\\n\", means)\n",
        "print(\"\\nStandard deviations after standardization:\\n\", stds)\n",
        "\n"
      ],
      "metadata": {
        "id": "z9YS-NINft5T",
        "colab": {
          "base_uri": "https://localhost:8080/"
        },
        "outputId": "d0ea29d2-99cb-4725-8ff6-4d1f832ddc0d"
      },
      "execution_count": 10,
      "outputs": [
        {
          "output_type": "stream",
          "name": "stdout",
          "text": [
            "Means after standardization:\n",
            " A2    -2.121835e-16\n",
            "A3    -8.704965e-17\n",
            "A8     1.740993e-16\n",
            "A11    0.000000e+00\n",
            "A14    3.808422e-17\n",
            "A15    0.000000e+00\n",
            "dtype: float64\n",
            "\n",
            "Standard deviations after standardization:\n",
            " A2     1.0\n",
            "A3     1.0\n",
            "A8     1.0\n",
            "A11    1.0\n",
            "A14    1.0\n",
            "A15    1.0\n",
            "dtype: float64\n"
          ]
        }
      ]
    },
    {
      "cell_type": "markdown",
      "source": [
        "Do any other EDA that you think will help you understand the data better"
      ],
      "metadata": {
        "id": "tSxQWfhb62no"
      }
    },
    {
      "cell_type": "code",
      "source": [
        "# checking value counts of target variable to see if there is a class imbalance\n",
        "\n",
        "print(credit['target'].value_counts())"
      ],
      "metadata": {
        "colab": {
          "base_uri": "https://localhost:8080/"
        },
        "id": "q_wVdrUOjX-p",
        "outputId": "bc431f93-9df4-4f74-8926-b112cc6b9b20"
      },
      "execution_count": 11,
      "outputs": [
        {
          "output_type": "stream",
          "name": "stdout",
          "text": [
            "target\n",
            "0    357\n",
            "1    296\n",
            "Name: count, dtype: int64\n"
          ]
        }
      ]
    },
    {
      "cell_type": "code",
      "source": [
        "# looking at distribution of numeric variables\n",
        "\n",
        "credit[numeric_cols].hist(figsize=(10, 6), bins=20)\n",
        "plt.show()"
      ],
      "metadata": {
        "colab": {
          "base_uri": "https://localhost:8080/",
          "height": 545
        },
        "id": "NdzAV7lHl2LF",
        "outputId": "94bb77ce-6966-4181-9f0a-f6734d256016"
      },
      "execution_count": 12,
      "outputs": [
        {
          "output_type": "display_data",
          "data": {
            "text/plain": [
              "<Figure size 1000x600 with 6 Axes>"
            ],
            "image/png": "[encoded data removed]"
          },
          "metadata": {}
        }
      ]
    },
    {
      "cell_type": "markdown",
      "source": [
        "## Step 3: Implementing K-Means Algorithm [20 points]"
      ],
      "metadata": {
        "id": "_KSfY_fjNlIS"
      }
    },
    {
      "cell_type": "markdown",
      "source": [
        "### Now lets implement the Euclidean distance [3 points]"
      ],
      "metadata": {
        "id": "ti8MadfVO9Y5"
      }
    },
    {
      "cell_type": "code",
      "source": [
        "def euclidean_distance(x: np.array, y: np.array) -> float:\n",
        "    \"\"\"Calculates the Euclidean distance between two points.\n",
        "\n",
        "    Args:\n",
        "        x (numpy.ndarray): The first point.\n",
        "        y (numpy.ndarray): The second point.\n",
        "\n",
        "    Returns:\n",
        "        float: The Euclidean distance between the two points.\n",
        "    \"\"\"\n",
        "    # fill code here\n",
        "\n",
        "    return np.sqrt(np.sum((x-y) **2 ))"
      ],
      "metadata": {
        "id": "Ul1O0lLiMtOS"
      },
      "execution_count": 13,
      "outputs": []
    },
    {
      "cell_type": "markdown",
      "source": [
        "### Initialize the centroids [2 points]\n",
        "\n",
        "At first you just pick initial random points as your centroids. Write code to do that below"
      ],
      "metadata": {
        "id": "LfeEEfBCPOR8"
      }
    },
    {
      "cell_type": "code",
      "source": [
        "def initialize_centroids(\n",
        "    X: pd.DataFrame, k: int, random_state: int = 12\n",
        ") -> pd.DataFrame:\n",
        "    \"\"\"Randomly selects k initial centroids from the dataset.\n",
        "\n",
        "    Args:\n",
        "        X: The dataset from which to select centroids.\n",
        "        k (int): The number of centroids to initialize.\n",
        "\n",
        "    Returns:\n",
        "        pd.DataFrame The initial centroids.\n",
        "    \"\"\"\n",
        "    # set seed to reproduce results.\n",
        "    np.random.seed(random_state)\n",
        "    # Fill code here\n",
        "    centroids = X.sample(n=k).copy()\n",
        "    return centroids\n"
      ],
      "metadata": {
        "id": "dcjoHz0tPWiD"
      },
      "execution_count": 14,
      "outputs": []
    },
    {
      "cell_type": "markdown",
      "source": [
        "### Assign clusters to each point (each person in the data) [5 points]\n",
        "\n",
        "Now that we have chosen initial points, lets write a function that takes in the dataset, and for each person (row) in the dataframe, it assigns a cluster."
      ],
      "metadata": {
        "id": "yUPhHraEVrEm"
      }
    },
    {
      "cell_type": "code",
      "source": [
        "def assign_clusters(X: pd.DataFrame, centroids: pd.DataFrame) -> pd.DataFrame:\n",
        "    \"\"\"Calculates each data point's distance all centroids based on Euclidean distance.\n",
        "    Assumes that the first row in centroids is the 0th cluster, the second row\n",
        "    is the 1st cluster, and so on\n",
        "\n",
        "    Args:\n",
        "        X (pd.DataFrame): The dataset where each row is a data point.\n",
        "        centroids (pd.DataFrame): The current centroids.\n",
        "\n",
        "    Returns:\n",
        "        pd.DataFrame: X with the appended columns of cluster to which it belongs\n",
        "    \"\"\"\n",
        "    # lets first convert them into numpy arrays, this will make calculations faster\n",
        "    X_numpy = X.values\n",
        "    centroids_numpy = centroids.values\n",
        "\n",
        "    # make sure to return the dataframe with a new column called \"cluster\"\n",
        "\n",
        "    feature_columns = centroids.columns\n",
        "\n",
        "    X_numpy = X[feature_columns].values\n",
        "\n",
        "    distances = np.linalg.norm(X_numpy[:, np.newaxis] - centroids_numpy, axis=2)\n",
        "\n",
        "    X[\"cluster\"] = np.argmin(distances, axis=1)\n",
        "\n",
        "    return X\n"
      ],
      "metadata": {
        "id": "AqiScGO5PWmf"
      },
      "execution_count": 15,
      "outputs": []
    },
    {
      "cell_type": "markdown",
      "source": [
        "### Update the centroids based on the clusters formed [5 points]\n",
        "\n",
        "The new centroid is just the mean of all the points in that cluster. Note that this new centroid may not be a row in the dataframe, but some new values for all your features that don't exist in the credit dataframe"
      ],
      "metadata": {
        "id": "AL6tTMVEo2Az"
      }
    },
    {
      "cell_type": "code",
      "source": [
        "def update_centroids(X: pd.DataFrame, k: int) -> pd.DataFrame:\n",
        "    \"\"\"Updates the centroids based on the mean of the points assigned to each cluster.\n",
        "\n",
        "    Args:\n",
        "        X (pd.DataFrame): The dataset where each row is a data point.\n",
        "        k (int): The number of clusters.\n",
        "\n",
        "    Returns:\n",
        "        pd.DataFrame: The updated centroids with the right columnnames.\n",
        "    \"\"\"\n",
        "    # fill code here\n",
        "\n",
        "    new_centroids = X.groupby(\"cluster\").mean()\n",
        "\n",
        "    new_centroids = new_centroids[X.columns[:-1]]  # exclude the cluster column\n",
        "\n",
        "    return new_centroids"
      ],
      "metadata": {
        "id": "LHfq4z-MPWsv"
      },
      "execution_count": 16,
      "outputs": []
    },
    {
      "cell_type": "markdown",
      "source": [
        "### Run the K-Means algorithmn [5 points]"
      ],
      "metadata": {
        "id": "tuLlhmRopNOZ"
      }
    },
    {
      "cell_type": "code",
      "source": [
        "def k_means(X: pd.DataFrame, k: int, max_iters: int = 100) -> tuple:\n",
        "    \"\"\"Performs k-means clustering.\n",
        "\n",
        "    Args:\n",
        "        X (pd.DataFrame): The dataset where each row is a data point.\n",
        "        k (int): The number of clusters.\n",
        "        max_iters (int, optional): The maximum number of iterations. Defaults to 100.\n",
        "\n",
        "    Returns:\n",
        "        tuple: A tuple containing the final centroids and the cluster assignments.\n",
        "    \"\"\"\n",
        "    # first initialize the centroids\n",
        "    centroids = initialize_centroids(X, k)\n",
        "    # then write a loop. within that loop:\n",
        "    # 1. assign_clusters\n",
        "    # 2. update centroids\n",
        "    # 3. Keep repeating until the centroids dont change OR you hit max_iters.\n",
        "    # fill code here\n",
        "\n",
        "    for i in range(max_iters):\n",
        "\n",
        "        X = assign_clusters(X, centroids)\n",
        "\n",
        "        new_centroids = update_centroids(X, k)\n",
        "\n",
        "        if new_centroids.equals(centroids):\n",
        "            break\n",
        "\n",
        "        centroids = new_centroids\n",
        "\n",
        "    return centroids, X\n"
      ],
      "metadata": {
        "id": "AWOk-YlgPWws"
      },
      "execution_count": 17,
      "outputs": []
    },
    {
      "cell_type": "markdown",
      "source": [
        "Since k-means works only on the numeric data, lets create a new dataframe that contains only numeric"
      ],
      "metadata": {
        "id": "Nk8GzDgDZD2R"
      }
    },
    {
      "cell_type": "code",
      "source": [
        "# Lets run the k-means algorithm!\n",
        "credit_numeric = credit[['A2', 'A3', 'A8', 'A11', 'A14', 'A15']]"
      ],
      "metadata": {
        "id": "DSS_eOY1Y2zl"
      },
      "execution_count": 18,
      "outputs": []
    },
    {
      "cell_type": "code",
      "source": [
        "centroids_formed, clusters_formed = k_means(credit_numeric, k=2)"
      ],
      "metadata": {
        "id": "YiGvRZVCZGkm"
      },
      "execution_count": 19,
      "outputs": []
    },
    {
      "cell_type": "markdown",
      "source": [
        "Now we will check how well the algorithm performed. We have our original target variable, the source of truth, that we coded as 0/1.\n",
        "\n",
        "We now have clustered our dataset into two different clusters. We have called them clusters 0 and 1, but these are not the same as the 0/1 from the target variable.\n",
        "\n",
        "So check how accurate we are, we need to check if we have mistakenly called taret 0 as cluster 1. So I create a cluster2 variable, and then calculate accuracy score with both cluster, and cluster2"
      ],
      "metadata": {
        "id": "EuqOull4Vn7i"
      }
    },
    {
      "cell_type": "code",
      "source": [
        "# lets add on to this the original target variable\n",
        "clusters_formed['target'] = credit['target']\n",
        "clusters_formed['cluster2'] = clusters_formed['cluster']\n",
        "clusters_formed['cluster2'] = clusters_formed['cluster2'].map({0: 1, 1: 0})"
      ],
      "metadata": {
        "id": "ievOv0d5r2WX"
      },
      "execution_count": 20,
      "outputs": []
    },
    {
      "cell_type": "code",
      "source": [
        "accuracy_score(clusters_formed.target, clusters_formed.cluster)"
      ],
      "metadata": {
        "id": "fcKgXQeMuxTG",
        "colab": {
          "base_uri": "https://localhost:8080/"
        },
        "outputId": "1a92da6e-7a7f-4a8f-f8f5-507eb03992fd"
      },
      "execution_count": 21,
      "outputs": [
        {
          "output_type": "execute_result",
          "data": {
            "text/plain": [
              "0.6339969372128637"
            ]
          },
          "metadata": {},
          "execution_count": 21
        }
      ]
    },
    {
      "cell_type": "code",
      "source": [
        "accuracy_score(clusters_formed.target, clusters_formed.cluster2)"
      ],
      "metadata": {
        "id": "iVft1073uxVY",
        "colab": {
          "base_uri": "https://localhost:8080/"
        },
        "outputId": "a363b2de-8ea0-4061-de61-54c181016516"
      },
      "execution_count": 22,
      "outputs": [
        {
          "output_type": "execute_result",
          "data": {
            "text/plain": [
              "0.3660030627871363"
            ]
          },
          "metadata": {},
          "execution_count": 22
        }
      ]
    },
    {
      "cell_type": "markdown",
      "source": [
        "This does not look very accurate, and heavily imbalanced. Lets see if we can improve by adding categorical variables."
      ],
      "metadata": {
        "id": "LtWAU3P3PbtB"
      }
    },
    {
      "cell_type": "markdown",
      "source": [
        "## Step 4: k-prototypes Clustering (Mixed Data) (25 points)\n",
        "\n",
        " Implement k-prototypes from scratch, using numeric and categorical columns. Remember, instead of clusters, we call them prototypes, and the centroid of a prototype has two components: the numeric component of means, and the categorical component of modes."
      ],
      "metadata": {
        "id": "GH0Y4FXdPrCa"
      }
    },
    {
      "cell_type": "markdown",
      "source": [
        "### Define a function to calculate simple matching dissimilarity [1 points]"
      ],
      "metadata": {
        "id": "fjTdNE_EQWgw"
      }
    },
    {
      "cell_type": "code",
      "source": [
        "def simple_matching_dissimilarity(x: np.array, y: np.array) -> float:\n",
        "    \"\"\"Calculates the simple matching dissimilarity between two categorical samples.\n",
        "\n",
        "    Args:\n",
        "        x (numpy.ndarray): the categorical features of the first sample.\n",
        "        y (numpy.ndarray): the categorical features of the second sample.\n",
        "\n",
        "    Returns:\n",
        "        int: The number of mismatches between the two points.\n",
        "    \"\"\"\n",
        "    # fill code here\n",
        "    return np.sum(x != y)\n"
      ],
      "metadata": {
        "id": "lzdtwfIfhPEF"
      },
      "execution_count": 23,
      "outputs": []
    },
    {
      "cell_type": "markdown",
      "source": [
        "### Define a function to calculate mixed dissimilarity [4 points]\n"
      ],
      "metadata": {
        "id": "7SnoJiXUhXVS"
      }
    },
    {
      "cell_type": "code",
      "source": [
        "def mixed_dissimilarity(\n",
        "    x_num: np.array, y_num: np.array, x_cat: list, y_cat: list, gamma: float\n",
        ") -> float:\n",
        "    \"\"\"Calculates the mixed dissimilarity between two sample with numeric and categorical features.\n",
        "    This would be given by  num_diff + gamma * cat_diff\n",
        "\n",
        "    Args:\n",
        "        x_num (numpy.ndarray): The numeric part of the first sample.\n",
        "        y_num (numpy.ndarray): The numeric part of the second sample.\n",
        "        x_cat (numpy.ndarray): The categorical part of the first sample.\n",
        "        y_cat (numpy.ndarray): The categorical part of the second sample.\n",
        "        gamma (float): The weighting factor for categorical features.\n",
        "\n",
        "    Returns:\n",
        "        float: The combined dissimilarity score.\n",
        "    \"\"\"\n",
        "\n",
        "    num_diff = np.linalg.norm(x_num - y_num)\n",
        "\n",
        "    cat_diff = simple_matching_dissimilarity(np.array(x_cat), np.array(y_cat))\n",
        "\n",
        "    total_dissimilarity = num_diff + gamma * cat_diff\n",
        "\n",
        "    return total_dissimilarity"
      ],
      "metadata": {
        "id": "xn6wqXEjPjfS"
      },
      "execution_count": 24,
      "outputs": []
    },
    {
      "cell_type": "markdown",
      "source": [
        "### Initialize the prototypes [2 point]\n",
        "\n",
        "At first you just pick initial random points as your prototypes. Write code to do that below:\n"
      ],
      "metadata": {
        "id": "cPtWFa8rxhBi"
      }
    },
    {
      "cell_type": "code",
      "source": [
        "def initialize_centroids_mixed(\n",
        "    X: pd.DataFrame, k: int, random_state: int = 12\n",
        ") -> pd.DataFrame:\n",
        "    \"\"\"Randomly selects k initial centroids from the dataset.\n",
        "\n",
        "    Args:\n",
        "        X: The dataset from which to select centroids.\n",
        "        k (int): The number of centroids to initialize.\n",
        "\n",
        "    Returns:\n",
        "        pd.DataFrame The initial centroids.\n",
        "    \"\"\"\n",
        "    # set seed to reproduce results.\n",
        "    np.random.seed(random_state)\n",
        "    # fill code here\n",
        "\n",
        "    centroids = X.sample(n=k).copy()\n",
        "\n",
        "    return centroids"
      ],
      "metadata": {
        "id": "spEtvNCmxj9o"
      },
      "execution_count": 25,
      "outputs": []
    },
    {
      "cell_type": "markdown",
      "source": [
        "### Assign prototypes to each point (each person in the dataset) [6 points]\n",
        "\n",
        "This function assigns each sample to the nearest prototype based on mixed dissimilarity.\n",
        "\n"
      ],
      "metadata": {
        "id": "LnyS0LuNQwMx"
      }
    },
    {
      "cell_type": "code",
      "source": [
        "def assign_prototypes_mixed(\n",
        "    X: pd.DataFrame,\n",
        "    cat_features: list,\n",
        "    num_features: list,\n",
        "    centroids: pd.DataFrame,\n",
        "    gamma: float,\n",
        ") -> pd.DataFrame:\n",
        "  \"\"\"Assigns each sample to the nearest prototype based on mixed dissimilarity.\n",
        "\n",
        "  Args:\n",
        "      X (pd.DataFrame): The dataset containing all your data\n",
        "      cat_features (list): list of all categorical features\n",
        "      num_features (list): list of all num_features features\n",
        "      centroids (pd.DataFrame): A dataframe with k rows, corresponding to the\n",
        "        centroid of each prototype\n",
        "      gamma (float): The weighting factor for categorical features.\n",
        "\n",
        "  Returns:\n",
        "      pd.DataFrame: X with the appended columns of cluster to which it belongs\n",
        "  \"\"\"\n",
        "  # Lets split the data into categorical and numerical numpy arrays\n",
        "  X_num = X[num_features].values\n",
        "  X_cat = X[cat_features].values\n",
        "\n",
        "  # Fill code here\n",
        "\n",
        "  centroids_num = centroids[num_features].values\n",
        "  centroids_cat = centroids[cat_features].values\n",
        "\n",
        "  distances = np.zeros((X.shape[0], centroids.shape[0]))\n",
        "\n",
        "  for i, (x_n, x_c) in enumerate(zip(X_num, X_cat)):\n",
        "      for j, (c_n, c_c) in enumerate(zip(centroids_num, centroids_cat)):\n",
        "          distances[i, j] = mixed_dissimilarity(x_n, c_n, x_c, c_c, gamma)\n",
        "\n",
        "  X[\"cluster\"] = np.argmin(distances, axis=1)\n",
        "\n",
        "  return X"
      ],
      "metadata": {
        "id": "X_NZnZDWPjhn"
      },
      "execution_count": 26,
      "outputs": []
    },
    {
      "cell_type": "markdown",
      "source": [
        "### Update the centroids based on the prototypes formed [6 points]\n",
        "\n",
        "The new centroid is just the mean of all the numeric featurse in that prototypes, and the mode of all the categorical features in the prototypes.\n",
        "\n",
        "Note that this new centroid may not be a row in the dataframe, but some new values for all your features that don't exist in the credit dataframe"
      ],
      "metadata": {
        "id": "A1ZggnMn15hj"
      }
    },
    {
      "cell_type": "code",
      "source": [
        "def update_centroids_mixed(\n",
        "    X: pd.DataFrame, cat_features: list, num_features: list, k: int\n",
        ") -> pd.DataFrame:\n",
        "  \"\"\"Updates the centroids for each prototype in k-prototypes.\n",
        "\n",
        "  Args:\n",
        "      X (pd.DataFrame): The dataset containing all your data\n",
        "      cat_features (list): list of all categorical features\n",
        "      num_features (list): list of all num_features features\n",
        "      k (int): The number of prototypes.\n",
        "\n",
        "  Returns:\n",
        "      pd.DataFrame: The updated centroids with the right columnnames.\n",
        "  \"\"\"\n",
        "  new_centroids_cat = []\n",
        "  new_centroids_num = []\n",
        "\n",
        "  # fill code here\n",
        "\n",
        "  for cluster in range(k):\n",
        "      cluster_data = X[X[\"cluster\"] == cluster]\n",
        "\n",
        "      new_centroids_num.append(cluster_data[num_features].mean().values)\n",
        "\n",
        "      new_centroids_cat.append(cluster_data[cat_features].agg(lambda x: x.mode()[0]).values)\n",
        "\n",
        "  new_centroids_num = pd.DataFrame(new_centroids_num, columns=num_features)\n",
        "  new_centroids_cat = pd.DataFrame(new_centroids_cat, columns=cat_features)\n",
        "\n",
        "  new_centroids = pd.concat([new_centroids_num, new_centroids_cat], axis=1)\n",
        "\n",
        "  return new_centroids\n"
      ],
      "metadata": {
        "id": "78yat8CMPjj6"
      },
      "execution_count": 27,
      "outputs": []
    },
    {
      "cell_type": "markdown",
      "source": [
        "### Implement the k-prototypes [6 points]"
      ],
      "metadata": {
        "id": "yaDNHS3N6tOz"
      }
    },
    {
      "cell_type": "code",
      "source": [
        "def k_prototypes(\n",
        "    X: pd.DataFrame,\n",
        "    cat_features: list,\n",
        "    num_features: list,\n",
        "    k: int,\n",
        "    gamma: float,\n",
        "    max_iters: int = 100,\n",
        ") -> tuple:\n",
        "    \"\"\"Performs k-prototypes clustering.\n",
        "\n",
        "    Args:\n",
        "        X (numpy.ndarray): The numeric part of the dataset.\n",
        "        k (int): The number of clusters.\n",
        "        gamma (float): The weighting factor for categorical features.\n",
        "        max_iters (int, optional): The maximum number of iterations. Defaults to 100.\n",
        "\n",
        "    Returns:\n",
        "        tuple: A tuple containing the final prototypes and the cluster assignments.\n",
        "    \"\"\"\n",
        "    centroids = initialize_centroids_mixed(X, k)\n",
        "    # get the columns in the right order\n",
        "    centroids = centroids[num_features + cat_features]\n",
        "    # fill code here\n",
        "\n",
        "    for i in range(max_iters):\n",
        "\n",
        "        X = assign_prototypes_mixed(X, cat_features, num_features, centroids, gamma)\n",
        "\n",
        "        X[\"prototype\"] = X[\"cluster\"]\n",
        "\n",
        "        new_centroids = update_centroids_mixed(X, cat_features, num_features, k)\n",
        "\n",
        "        if new_centroids.equals(centroids):\n",
        "            break\n",
        "\n",
        "        centroids = new_centroids\n",
        "\n",
        "    return centroids, X\n"
      ],
      "metadata": {
        "id": "BpIkS4WRPjmM"
      },
      "execution_count": 28,
      "outputs": []
    },
    {
      "cell_type": "code",
      "source": [
        "num_features = ['A2', 'A3', 'A8', 'A11', 'A14', 'A15']\n",
        "cat_features = ['A1', 'A4', 'A5', 'A6', 'A7', 'A9', 'A10', 'A12', 'A13']"
      ],
      "metadata": {
        "id": "sjxR-1PyAW1O"
      },
      "execution_count": 29,
      "outputs": []
    },
    {
      "cell_type": "code",
      "source": [
        "X = credit.drop('target', axis=1)"
      ],
      "metadata": {
        "id": "_F1EEJUoBF_l"
      },
      "execution_count": 30,
      "outputs": []
    },
    {
      "cell_type": "code",
      "source": [
        "initial_centroids = initialize_centroids_mixed(X, 2)"
      ],
      "metadata": {
        "id": "JuPo-1R-8Buc"
      },
      "execution_count": 31,
      "outputs": []
    },
    {
      "cell_type": "code",
      "source": [
        "centroids, prototypes = k_prototypes(X, cat_features, num_features, 2, gamma=0.5)"
      ],
      "metadata": {
        "id": "32ZpuCGoPjoX"
      },
      "execution_count": 32,
      "outputs": []
    },
    {
      "cell_type": "code",
      "source": [
        "# lets add on to this the original target variable\n",
        "prototypes['target'] = credit['target']\n",
        "prototypes['prototype2'] = prototypes['prototype']\n",
        "prototypes['prototype2'] = prototypes['prototype2'].map({0: 1, 1: 0})"
      ],
      "metadata": {
        "id": "MT12MsJ4G_Zv"
      },
      "execution_count": 33,
      "outputs": []
    },
    {
      "cell_type": "code",
      "source": [
        "accuracy_score(prototypes.target, prototypes.prototype)"
      ],
      "metadata": {
        "id": "YmxOzKULPjsl",
        "colab": {
          "base_uri": "https://localhost:8080/"
        },
        "outputId": "0d966d28-fac0-4842-fe0a-d4628f96c7eb"
      },
      "execution_count": 34,
      "outputs": [
        {
          "output_type": "execute_result",
          "data": {
            "text/plain": [
              "0.8101071975497703"
            ]
          },
          "metadata": {},
          "execution_count": 34
        }
      ]
    },
    {
      "cell_type": "code",
      "source": [
        "accuracy_score(prototypes.target, prototypes.prototype2)"
      ],
      "metadata": {
        "id": "v024mbhrHvGo",
        "colab": {
          "base_uri": "https://localhost:8080/"
        },
        "outputId": "481405b2-bfe7-40bb-b0f3-c9b2b4ba6442"
      },
      "execution_count": 35,
      "outputs": [
        {
          "output_type": "execute_result",
          "data": {
            "text/plain": [
              "0.18989280245022971"
            ]
          },
          "metadata": {},
          "execution_count": 35
        }
      ]
    },
    {
      "cell_type": "markdown",
      "source": [
        "Wow, we went up a lot in accuracy! Not too bad with a simple unsupervised learning algorithm."
      ],
      "metadata": {
        "id": "RZ5dT9KKbn8L"
      }
    },
    {
      "cell_type": "code",
      "source": [
        "!jupyter nbconvert --to html /content/Daphne_Ozkan_Assignment_3.ipynb"
      ],
      "metadata": {
        "colab": {
          "base_uri": "https://localhost:8080/"
        },
        "id": "hsaSVV-Y9508",
        "outputId": "4d76e923-ca99-4c20-a62f-79b09f1c8a8d"
      },
      "execution_count": 43,
      "outputs": [
        {
          "output_type": "stream",
          "name": "stdout",
          "text": [
            "[NbConvertApp] Converting notebook /content/Daphne_Ozkan_Assignment_3.ipynb to html\n",
            "[NbConvertApp] WARNING | Alternative text is missing on 2 image(s).\n",
            "[NbConvertApp] Writing 453486 bytes to /content/Daphne_Ozkan_Assignment_3.html\n"
          ]
        }
      ]
    }
  ]
}